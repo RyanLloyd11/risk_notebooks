{
 "cells": [
  {
   "cell_type": "code",
   "execution_count": null,
   "metadata": {},
   "outputs": [],
   "source": [
    "public_content = risk_bm.content.search(\"Fire\", item_type=\"Feature Layer\", max_items=2)\n",
    "public_content\n",
    "from IPython.display import display\n",
    "for item in public_content:\n",
    "    display(item)"
   ]
  },
  {
   "cell_type": "code",
   "execution_count": null,
   "metadata": {},
   "outputs": [],
   "source": [
    "arcpy.ListFeatureClasses()"
   ]
  },
  {
   "cell_type": "code",
   "execution_count": null,
   "metadata": {},
   "outputs": [],
   "source": [
    "# Create feature layer\n",
    "results = arcpy.MakeFeatureLayer_management(\"c:/Users/Geollect/Documents/ArcGIS/Projects/risk_2/\",\"test_8\").getOutput(0)"
   ]
  },
  {
   "cell_type": "code",
   "execution_count": null,
   "metadata": {},
   "outputs": [],
   "source": [
    "# An example of a density plot from the raw counts (in python)\n",
    "df = pandas.read_csv(\"c:/Users/Geollect/Documents/ArcGIS/Projects/risk_2/geollect_gulfofguinea_msg123_feb2017.csv\",low_memory=False)\n",
    "test_density, xedges, yedges = numpy.histogram2d(df.Latitude,df.Longitude, bins=(50,50));\n",
    "X, Y = numpy.meshgrid(xedges, yedges)\n",
    "fig = matplotlib.pyplot.figure(figsize=(7, 3))\n",
    "ax = fig.add_subplot(132, title='pcolormesh: actual edges', aspect='equal')\n",
    "ax.pcolormesh(X, Y, test_density)\n",
    "z_min, z_max = 0, numpy.abs(test_density).max()\n",
    "c = ax.pcolorfast(X, Y, test_density, cmap='RdBu', vmin=z_min, vmax=z_max)\n",
    "fig.colorbar(c, ax=ax)"
   ]
  },
  {
   "cell_type": "code",
   "execution_count": null,
   "metadata": {},
   "outputs": [],
   "source": [
    "arcpy.CreateFeatureclass_management(\"c:/Users/Geollect/Documents/ArcGIS/Projects/risk_2/\", \"FC_18\", \"POINT\")"
   ]
  },
  {
   "cell_type": "code",
   "execution_count": null,
   "metadata": {},
   "outputs": [],
   "source": [
    "map.add_layer(\"c:/Users/Geollect/Documents/ArcGIS/Projects/risk_2/FC_18\")"
   ]
  },
  {
   "cell_type": "code",
   "execution_count": null,
   "metadata": {},
   "outputs": [],
   "source": [
    "\n",
    "# THIS SEEMED TO WORK...\n",
    "arcpy.FeatureClassToFeatureClass_conversion(\"map3\", \"c:/Users/Geollect/Documents/ArcGIS/Projects/risk_2/risk_2.gdb\",\"test_name_lyr\")"
   ]
  }
 ],
 "metadata": {
  "kernelspec": {
   "display_name": "Python 3",
   "language": "python",
   "name": "python3"
  },
  "language_info": {
   "codemirror_mode": {
    "name": "ipython",
    "version": 3
   },
   "file_extension": ".py",
   "mimetype": "text/x-python",
   "name": "python",
   "nbconvert_exporter": "python",
   "pygments_lexer": "ipython3",
   "version": "3.6.5"
  }
 },
 "nbformat": 4,
 "nbformat_minor": 2
}
