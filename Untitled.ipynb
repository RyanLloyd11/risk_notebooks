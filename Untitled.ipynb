{
 "cells": [
  {
   "cell_type": "code",
   "execution_count": null,
   "metadata": {},
   "outputs": [],
   "source": [
    "# Load environments\n",
    "import os\n",
    "import arcgis\n",
    "import arcpy\n",
    "import pandas\n",
    "import csv\n",
    "import numpy\n",
    "import matplotlib\n",
    "import matplotlib.pyplot\n",
    "import pylab"
   ]
  },
  {
   "cell_type": "code",
   "execution_count": 2,
   "metadata": {},
   "outputs": [
    {
     "data": {
      "application/vnd.jupyter.widget-view+json": {
       "model_id": "95a676c5a3414ff8bc18f936c9bdf16b",
       "version_major": 2,
       "version_minor": 0
      },
      "text/plain": [
       "MapView(basemaps=['dark-gray', 'dark-gray-vector', 'gray', 'gray-vector', 'hybrid', 'national-geographic', 'oc…"
      ]
     },
     "metadata": {},
     "output_type": "display_data"
    }
   ],
   "source": [
    "from arcgis.gis import GIS\n",
    "#Create annonymous connection to ArcGIS online\n",
    "gis = GIS()\n",
    "# Load a map for GoG\n",
    "map = gis.map(\"Port Harcourt\", zoomlevel = 6)\n",
    "map"
   ]
  },
  {
   "cell_type": "code",
   "execution_count": 4,
   "metadata": {},
   "outputs": [],
   "source": [
    "# Add Continents Layer\n",
    "flayer_search_result = gis.content.search('title:continents', outside_org=True)\n",
    "continents = flayer_search_result[0]\n",
    "flayer_search_result[0]\n",
    "map.add_layer(continents)"
   ]
  },
  {
   "cell_type": "code",
   "execution_count": 5,
   "metadata": {},
   "outputs": [],
   "source": [
    "# Add GoG traffic data\n",
    "# Create dataframe using pandas (to look and interrogate the data)\n",
    "df = pandas.read_csv(\"c:/Users/Geollect/Documents/ArcGIS/Projects/risk_2/geollect_gulfofguinea_msg123_feb2017.csv\",low_memory=False)\n",
    "#df.head(2)"
   ]
  },
  {
   "cell_type": "code",
   "execution_count": 11,
   "metadata": {},
   "outputs": [
    {
     "data": {
      "text/plain": [
       "<Result 'eventlyr_123_'>"
      ]
     },
     "execution_count": 11,
     "metadata": {},
     "output_type": "execute_result"
    }
   ],
   "source": [
    "# Create Event layer\n",
    "arcpy.MakeXYEventLayer_management(\"c:/Users/Geollect/Documents/ArcGIS/Projects/risk_2/geollect_gulfofguinea_msg123_feb2017.csv\",\"Longitude\",\"Latitude\",\"eventlyr_123_\",\"\",\"\")\n"
   ]
  },
  {
   "cell_type": "code",
   "execution_count": null,
   "metadata": {},
   "outputs": [],
   "source": [
    "# Create feature class\n",
    "arcpy.management.XYTableToPoint(\"c:/Users/Geollect/Documents/ArcGIS/Projects/risk_2/geollect_gulfofguinea_msg18_feb2017.csv\",\"Feb17_18.shp\",\"Latitude\",\"Longitude\")"
   ]
  },
  {
   "cell_type": "code",
   "execution_count": null,
   "metadata": {},
   "outputs": [],
   "source": []
  },
  {
   "cell_type": "code",
   "execution_count": null,
   "metadata": {},
   "outputs": [],
   "source": [
    "# Event layer to Feature class\n",
    "arcpy.FeatureToPoint_management (\"eventlyr_123_\", \"c:/Users/Geollect/Documents/ArcGIS/Projects/risk_2/Point_test.shp\")\n",
    "# Create Feature layer\n",
    "\n",
    "# Plot layer"
   ]
  },
  {
   "cell_type": "code",
   "execution_count": null,
   "metadata": {},
   "outputs": [],
   "source": []
  },
  {
   "cell_type": "code",
   "execution_count": 12,
   "metadata": {},
   "outputs": [],
   "source": [
    "arcpy.ListFeatureClasses()"
   ]
  },
  {
   "cell_type": "code",
   "execution_count": 6,
   "metadata": {},
   "outputs": [],
   "source": [
    "arcpy.FeatureToPoint_management?"
   ]
  }
 ],
 "metadata": {
  "kernelspec": {
   "display_name": "Python 3",
   "language": "python",
   "name": "python3"
  },
  "language_info": {
   "codemirror_mode": {
    "name": "ipython",
    "version": 3
   },
   "file_extension": ".py",
   "mimetype": "text/x-python",
   "name": "python",
   "nbconvert_exporter": "python",
   "pygments_lexer": "ipython3",
   "version": "3.6.5"
  }
 },
 "nbformat": 4,
 "nbformat_minor": 2
}
