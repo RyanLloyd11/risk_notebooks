{
 "cells": [
  {
   "cell_type": "code",
   "execution_count": 2,
   "metadata": {},
   "outputs": [],
   "source": [
    "# Ryan Lloyd - Geollect\n",
    "# Load environments\n",
    "import os\n",
    "import arcgis\n",
    "import arcpy\n",
    "import pandas\n",
    "import csv\n",
    "import numpy\n",
    "import matplotlib\n",
    "import matplotlib.pyplot\n",
    "import pylab\n",
    "import zipfile\n",
    "from arcpy.sa import *"
   ]
  },
  {
   "cell_type": "code",
   "execution_count": null,
   "metadata": {},
   "outputs": [],
   "source": [
    "# CAN I SET m as default unit...?"
   ]
  },
  {
   "cell_type": "markdown",
   "metadata": {},
   "source": [
    "## Set up connection to ArcOnline, and create the map"
   ]
  },
  {
   "cell_type": "code",
   "execution_count": 7,
   "metadata": {},
   "outputs": [
    {
     "data": {
      "application/vnd.jupyter.widget-view+json": {
       "model_id": "1379995dd0d445aa9bcc07657a0f2902",
       "version_major": 2,
       "version_minor": 0
      },
      "text/plain": [
       "MapView(basemaps=['dark-gray', 'dark-gray-vector', 'gray', 'gray-vector', 'hybrid', 'national-geographic', 'oc…"
      ]
     },
     "metadata": {},
     "output_type": "display_data"
    }
   ],
   "source": [
    "from arcgis.gis import GIS\n",
    "#Create annonymous connection to ArcGIS online\n",
    "gis = GIS(\"https://www.arcgis.com\", \"geollect_admin\", \"Geollect18\")\n",
    "# Load a map for GoG\n",
    "map = gis.map(\"Port Harcourt\", zoomlevel = 6)\n",
    "map"
   ]
  },
  {
   "cell_type": "code",
   "execution_count": 8,
   "metadata": {},
   "outputs": [],
   "source": [
    "flayer_search_result = gis.content.search('title:continents', outside_org=True)\n",
    "continents = flayer_search_result[0]\n",
    "flayer_search_result[0]\n",
    "map.add_layer(continents)\n",
    "# N.B had to download this for later on...\n",
    "#continents.id\n",
    "#continents_id = gis.content.get('57c1ade4fa7c4e2384e6a23f2b3bd254')"
   ]
  },
  {
   "cell_type": "markdown",
   "metadata": {},
   "source": [
    "## Read in the csv (play with using Python)"
   ]
  },
  {
   "cell_type": "code",
   "execution_count": null,
   "metadata": {},
   "outputs": [],
   "source": [
    "# Create dataframe using pandas (to look and interrogate the data)\n",
    "#df = pandas.read_csv(\"c:/Users/Geollect/Documents/ArcGIS/Projects/risk_2/geollect_gulfofguinea_msg123_feb2017.csv\",low_memory=False)\n",
    "#df.head(2)\n",
    "#A=msg123 = df.loc[:, [\"MMSI\",\"Latitude\",\"Longitude\"]]\n",
    "#msg123.head(2)\n",
    "#matplotlib.pyplot.scatter(df.Latitude,df.Longitude)"
   ]
  },
  {
   "cell_type": "markdown",
   "metadata": {},
   "source": [
    "##  Create a Feature Class/Layer from data"
   ]
  },
  {
   "cell_type": "code",
   "execution_count": null,
   "metadata": {},
   "outputs": [],
   "source": [
    "#CREATE = 0"
   ]
  },
  {
   "cell_type": "code",
   "execution_count": 11,
   "metadata": {},
   "outputs": [
    {
     "data": {
      "text/plain": [
       "<Result 'c:/Users/Geollect/Documents/ArcGIS/Projects/risk_4\\\\risk_model.gdb'>"
      ]
     },
     "execution_count": 11,
     "metadata": {},
     "output_type": "execute_result"
    }
   ],
   "source": [
    "#if CREATE = 1\n",
    "# Set workspace\n",
    "arcpy.env.workspace = \"c:/Users/Geollect/Documents/ArcGIS/Projects/risk_4/\"\n",
    "\n",
    "# Set local variables\n",
    "out_folder_path = \"c:/Users/Geollect/Documents/ArcGIS/Projects/risk_4/\"\n",
    "out_name = \"risk_model.gdb\"\n",
    "\n",
    "# Execute CreateFileGDB\n",
    "arcpy.CreateFileGDB_management(out_folder_path, out_name)\n",
    "#end"
   ]
  },
  {
   "cell_type": "code",
   "execution_count": 3,
   "metadata": {},
   "outputs": [],
   "source": [
    "# Set workspace\n",
    "arcpy.env.workspace = \"c:/Users/Geollect/Documents/ArcGIS/Projects/risk_4/risk_model.gdb\""
   ]
  },
  {
   "cell_type": "code",
   "execution_count": null,
   "metadata": {},
   "outputs": [],
   "source": [
    "# Create feature class\n",
    "arcpy.management.XYTableToPoint(\"c:/Users/Geollect/Documents/ArcGIS/Projects/risk_2/geollect_gulfofguinea_msg18_feb2017.csv\",\"Feb17_18_5.shp\",\"Longitude\",\"Latitude\")"
   ]
  },
  {
   "cell_type": "code",
   "execution_count": 7,
   "metadata": {},
   "outputs": [
    {
     "data": {
      "text/plain": [
       "<Result 'c:\\\\Users\\\\Geollect\\\\Documents\\\\ArcGIS\\\\Projects\\\\risk_4\\\\risk_model.gdb'>"
      ]
     },
     "execution_count": 7,
     "metadata": {},
     "output_type": "execute_result"
    }
   ],
   "source": [
    "arcpy.FeatureClassToGeodatabase_conversion(\"c:/Users/Geollect/Documents/ArcGIS/Projects/risk_4/Feb17_18_5.shp\",'c:/Users/Geollect/Documents/ArcGIS/Projects/risk_4/risk_model.gdb')"
   ]
  },
  {
   "cell_type": "code",
   "execution_count": null,
   "metadata": {},
   "outputs": [],
   "source": [
    "# SPLIT TIME AND DATE FIELDS\n",
    "#arcpy.AddField_management(\"Feb17_18_5.shp\", \"TIME3\", \"TEXT\")\n",
    "#arcpy.CalculateField_management(\"Feb17_18_5\", \"TIME3\", '!ISODate!.split(\"T\")', \"PYTHON3\")\n",
    "#arcpy.AddField_management(\"Feb17_18_5.shp\", \"DATE\", \"DATE\")\n",
    "#arcpy.CalculateField_management(\"Feb17_18_5.shp\", \"TIME\", '!ISODate!.split(\"Z\")[-1]', \"PYTHON3\")"
   ]
  },
  {
   "cell_type": "code",
   "execution_count": null,
   "metadata": {},
   "outputs": [],
   "source": [
    "# LOAD IN MSG 5"
   ]
  },
  {
   "cell_type": "markdown",
   "metadata": {},
   "source": [
    "## Calculate P"
   ]
  },
  {
   "cell_type": "code",
   "execution_count": null,
   "metadata": {},
   "outputs": [],
   "source": [
    "## --- Select arttibutes method ---"
   ]
  },
  {
   "cell_type": "code",
   "execution_count": null,
   "metadata": {},
   "outputs": [],
   "source": [
    "# Join points by MMSI, with increasing time\n",
    "arcpy.PointsToLine_management(\"c:\\\\Users\\\\Geollect\\\\Documents\\\\ArcGIS\\\\Projects\\\\risk_4\\\\Feb17_18_5.shp\",\"Feb17_18_lines.shp\", \"MMSI\",\"ISODate\")"
   ]
  },
  {
   "cell_type": "markdown",
   "metadata": {},
   "source": [
    "## --- NEED TO relate msgs (123 & 5) based on MMSI (unless =0?) ----\n",
    "#MSG 123 (at each time) simply relate MMSI to IMO, vessl name, ship type, and callsign <-Only once - This will be static (for now). Perhaps just extract each unique combination of these first (i.e. cut time) to relate..? (each MMSI appears only once)\n",
    "#Attacks can have many lines. Lines could have many attacks"
   ]
  },
  {
   "cell_type": "code",
   "execution_count": 11,
   "metadata": {},
   "outputs": [
    {
     "data": {
      "text/plain": [
       "<Result 'Feb17_traffic_lyr'>"
      ]
     },
     "execution_count": 11,
     "metadata": {},
     "output_type": "execute_result"
    }
   ],
   "source": [
    "# Identify lines which cross continent \n",
    "arcpy.MakeFeatureLayer_management(\"c:/Users/Geollect/Documents/ArcGIS/Projects/risk_4\\\\Feb17_18_lines.shp\",\"Feb17_traffic_lyr\")"
   ]
  },
  {
   "cell_type": "code",
   "execution_count": 12,
   "metadata": {},
   "outputs": [
    {
     "data": {
      "text/plain": [
       "<Result 'Feb17_traffic_lyr'>"
      ]
     },
     "execution_count": 12,
     "metadata": {},
     "output_type": "execute_result"
    }
   ],
   "source": [
    "arcpy.SelectLayerByLocation_management(\"Feb17_traffic_lyr\", \"INTERSECT\", \"c:/Users/Geollect/Documents/ArcGIS/Projects/risk_2/World_Continents.lyrx\",\"\", \"NEW_SELECTION\")"
   ]
  },
  {
   "cell_type": "code",
   "execution_count": null,
   "metadata": {},
   "outputs": [],
   "source": [
    "arcpy.CopyFeatures_management(\"Feb17_Traffic_lyr\", \"c:/Users/Geollect/Documents/ArcGIS/Projects/risk_4\\\\Select_test\")"
   ]
  },
  {
   "cell_type": "code",
   "execution_count": 5,
   "metadata": {},
   "outputs": [
    {
     "data": {
      "text/plain": [
       "<Result 'c:\\\\Users\\\\Geollect\\\\Documents\\\\ArcGIS\\\\Projects\\\\risk_4\\\\Stest_Split1.shp'>"
      ]
     },
     "execution_count": 5,
     "metadata": {},
     "output_type": "execute_result"
    }
   ],
   "source": [
    "# Split these lines (this is the longest t step- alternative?)\n",
    "arcpy.SplitLineAtPoint_management (\"c:\\\\Users\\\\Geollect\\\\Documents\\\\ArcGIS\\\\Projects\\\\risk_4\\\\Select_test.shp\", \"c:\\\\Users\\\\Geollect\\\\Documents\\\\ArcGIS\\\\Projects\\\\risk_4\\\\Feb17_18_5.shp\", \"c:\\\\Users\\\\Geollect\\\\Documents\\\\ArcGIS\\\\Projects\\\\risk_4\\\\Stest_Split1.shp\", \"10 Meters\")"
   ]
  },
  {
   "cell_type": "code",
   "execution_count": 10,
   "metadata": {},
   "outputs": [
    {
     "data": {
      "text/plain": [
       "<Result 'Splits_lyr'>"
      ]
     },
     "execution_count": 10,
     "metadata": {},
     "output_type": "execute_result"
    }
   ],
   "source": [
    "# Select line segments which do not cross continent \n",
    "arcpy.MakeFeatureLayer_management(\"c:/Users/Geollect/Documents/ArcGIS/Projects/risk_4\\\\Stest_Split1.shp\",\"Splits_lyr\")"
   ]
  },
  {
   "cell_type": "code",
   "execution_count": 11,
   "metadata": {},
   "outputs": [
    {
     "data": {
      "text/plain": [
       "<Result 'c:\\\\Users\\\\Geollect\\\\Documents\\\\ArcGIS\\\\Projects\\\\risk_4\\\\Splits_offshore.shp'>"
      ]
     },
     "execution_count": 11,
     "metadata": {},
     "output_type": "execute_result"
    }
   ],
   "source": [
    "arcpy.SelectLayerByLocation_management(\"Splits_lyr\", \"INTERSECT\", \"c:/Users/Geollect/Documents/ArcGIS/Projects/risk_2/World_Continents.lyrx\",\"\", \"NEW_SELECTION\",\"INVERT\")\n",
    "arcpy.CopyFeatures_management(\"Splits_lyr\", \"c:/Users/Geollect/Documents/ArcGIS/Projects/risk_4\\\\Splits_offshore\")"
   ]
  },
  {
   "cell_type": "code",
   "execution_count": 20,
   "metadata": {},
   "outputs": [
    {
     "data": {
      "text/plain": [
       "<Result 'c:\\\\Users\\\\Geollect\\\\Documents\\\\ArcGIS\\\\Projects\\\\risk_4\\\\whole_offshore.shp'>"
      ]
     },
     "execution_count": 20,
     "metadata": {},
     "output_type": "execute_result"
    }
   ],
   "source": [
    "# Select offshore ones from all \n",
    "arcpy.SelectLayerByLocation_management(\"Feb17_traffic_lyr\", \"INTERSECT\", \"c:/Users/Geollect/Documents/ArcGIS/Projects/risk_2/World_Continents.lyrx\",\"\", \"NEW_SELECTION\",\"INVERT\")\n",
    "arcpy.CopyFeatures_management(\"Feb17_Traffic_lyr\", \"c:/Users/Geollect/Documents/ArcGIS/Projects/risk_4\\\\whole_offshore\")"
   ]
  },
  {
   "cell_type": "code",
   "execution_count": 29,
   "metadata": {},
   "outputs": [
    {
     "data": {
      "text/plain": [
       "<Result 'c:/Users/Geollect/Documents/ArcGIS/Projects/risk_4/risk_model.gdb\\\\Offshore_traffic_lyr'>"
      ]
     },
     "execution_count": 29,
     "metadata": {},
     "output_type": "execute_result"
    }
   ],
   "source": [
    "# Combine these with all lines that do not cross land (multiple ips) - merge to shape file\n",
    "arcpy.Merge_management([\"c:/Users/Geollect/Documents/ArcGIS/Projects/risk_4\\\\Splits_offshore.shp\" , \"c:/Users/Geollect/Documents/ArcGIS/Projects/risk_4\\\\whole_offshore.shp\"],\"Offshore_traffic_lyr\")"
   ]
  },
  {
   "cell_type": "code",
   "execution_count": 30,
   "metadata": {},
   "outputs": [
    {
     "data": {
      "text/plain": [
       "<Result 'c:\\\\Users\\\\Geollect\\\\Documents\\\\ArcGIS\\\\Projects\\\\risk_4\\\\Offshore_Traffic_18.shp'>"
      ]
     },
     "execution_count": 30,
     "metadata": {},
     "output_type": "execute_result"
    }
   ],
   "source": [
    "# Select those less than 200 km - do this later when we have time included\n",
    "arcpy.CopyFeatures_management(\"Offshore_traffic_lyr\", \"c:/Users/Geollect/Documents/ArcGIS/Projects/risk_4\\\\Offshore_Traffic_18\")"
   ]
  },
  {
   "cell_type": "code",
   "execution_count": null,
   "metadata": {},
   "outputs": [],
   "source": [
    "# ADD RELATE BETWEEN MMSI LINE AND MMSI ATTACK HERE"
   ]
  },
  {
   "cell_type": "markdown",
   "metadata": {},
   "source": [
    "# -------- TO DO: DELETE INT FILES- save to scratch? --------"
   ]
  },
  {
   "cell_type": "code",
   "execution_count": 30,
   "metadata": {},
   "outputs": [],
   "source": [
    "## Calculate density - METHOD 1 ## \n",
    "\n",
    "# LineDensity (in_polyline_features, population_field, {cell_size}, {search_radius}, {area_unit_scale_factor})\n",
    "outLDens4 = arcpy.sa.LineDensity(\"c:/Users/Geollect/Documents/ArcGIS/Projects/risk_4/Offshore_Traffic_18.shp\", \"NONE\", 0.5, 0.28, \"SQUARE_KILOMETERS\")\n",
    "# Note: should really be time (length) spent in cell...\n",
    "outLDens4.save(\"c:/Users/Geollect/Documents/ArcGIS/Projects/risk_4/risk_model.gdb/TD7\")"
   ]
  },
  {
   "cell_type": "markdown",
   "metadata": {},
   "source": [
    "## -- ^ Quandtree based on density? -- Yes, but probably much later..?##"
   ]
  },
  {
   "cell_type": "code",
   "execution_count": 31,
   "metadata": {},
   "outputs": [],
   "source": [
    "## Load in attacks ##\n",
    "arcpy.management.XYTableToPoint(\"c:/Users/Geollect/Documents/ArcGIS/Projects/risk_2/attacks_GoG_2.csv\",\"c:/Users/Geollect/Documents/ArcGIS/Projects/risk_4/GoG_attacks_FND17.shp\",\"Longitude\",\"Latitude\")"
   ]
  },
  {
   "cell_type": "markdown",
   "metadata": {},
   "source": [
    "## -- Have iteration... -- ##"
   ]
  },
  {
   "cell_type": "code",
   "execution_count": null,
   "metadata": {},
   "outputs": [],
   "source": [
    "# Attack density"
   ]
  },
  {
   "cell_type": "code",
   "execution_count": null,
   "metadata": {},
   "outputs": [],
   "source": [
    "# Create fishnets (use template file to define co-ords system)\n",
    "# 1. Whole GoG\n",
    "A = \"0.5\" # Fishnet length and width \n",
    "# N,S,E,W\n",
    "arcpy.CreateFishnet_management(\"GoGFN2\", \"-7 -3\", \"-7 7\",A,A,\"0\",\"0\",\"10 7\",\"LABELS\",\"c:\\\\Users\\\\Geollect\\\\Documents\\\\ArcGIS\\\\Projects\\\\risk_4\\\\Offshore_Traffic_18.shp\",\"POLYGON\")"
   ]
  },
  {
   "cell_type": "code",
   "execution_count": 40,
   "metadata": {},
   "outputs": [
    {
     "data": {
      "text/plain": [
       "<Result 'c:\\\\Users\\\\Geollect\\\\Documents\\\\ArcGIS\\\\Projects\\\\risk_4\\\\risk_model.gdb\\\\GoGFN2'>"
      ]
     },
     "execution_count": 40,
     "metadata": {},
     "output_type": "execute_result"
    }
   ],
   "source": [
    "# Add attribute with 0 value\n",
    "arcpy.AddField_management('GoGFN2', \"SA_3\", \"FLOAT\",\"\",\"5\",\"\",\"\",\"NULLABLE\",\"REQUIRED\", \"\")"
   ]
  },
  {
   "cell_type": "code",
   "execution_count": 65,
   "metadata": {},
   "outputs": [
    {
     "data": {
      "text/plain": [
       "<Result 'c:/Users/Geollect/Documents/ArcGIS/Projects/risk_4/risk_model.gdb\\\\GoGFN2'>"
      ]
     },
     "execution_count": 65,
     "metadata": {},
     "output_type": "execute_result"
    }
   ],
   "source": [
    "# Create new dummy field of full shape area\n",
    "arcpy.CalculateField_management(\"GoGFN2\",\"SA_3\", \"!Shape_Area!\")"
   ]
  },
  {
   "cell_type": "code",
   "execution_count": null,
   "metadata": {},
   "outputs": [],
   "source": [
    "# Clip GoG_FN to continents\n",
    "arcpy.Clip_analysis(\"GoGFN2\", \"World_Continents\", \"landclip\",\"\")"
   ]
  },
  {
   "cell_type": "code",
   "execution_count": 29,
   "metadata": {
    "scrolled": true
   },
   "outputs": [
    {
     "data": {
      "text/plain": [
       "<Result 'c:/Users/Geollect/Documents/ArcGIS/Projects/risk_4/risk_model.gdb\\\\landclip'>"
      ]
     },
     "execution_count": 29,
     "metadata": {},
     "output_type": "execute_result"
    }
   ],
   "source": [
    "# Create new field\n",
    "arcpy.AddField_management('landclip', \"SA_3\", \"FLOAT\",\"\",\"5\",\"\",\"\",\"NULLABLE\",\"REQUIRED\", \"\")"
   ]
  },
  {
   "cell_type": "code",
   "execution_count": 62,
   "metadata": {},
   "outputs": [
    {
     "data": {
      "text/plain": [
       "<Result 'c:/Users/Geollect/Documents/ArcGIS/Projects/risk_4/risk_model.gdb\\\\landclip'>"
      ]
     },
     "execution_count": 62,
     "metadata": {},
     "output_type": "execute_result"
    }
   ],
   "source": [
    "# Find Sea Area\n",
    "arcpy.CalculateField_management(\"landclip\",\"SA_3\", \"math.pow(float(A),2)-!Shape_Area!\", 'PYTHON3')"
   ]
  },
  {
   "cell_type": "code",
   "execution_count": 67,
   "metadata": {},
   "outputs": [
    {
     "data": {
      "text/plain": [
       "<Result 'c:\\\\Users\\\\Geollect\\\\Documents\\\\ArcGIS\\\\Projects\\\\risk_4\\\\risk_model.gdb\\\\GoGFN_land3'>"
      ]
     },
     "execution_count": 67,
     "metadata": {},
     "output_type": "execute_result"
    }
   ],
   "source": [
    "# Merge datasets\n",
    "arcpy.Merge_management(['landclip',\"GoGFN2\"], \"GoGFN_land3\", \"First\")"
   ]
  },
  {
   "cell_type": "code",
   "execution_count": 11,
   "metadata": {},
   "outputs": [
    {
     "data": {
      "text/plain": [
       "<Result 'c:/Users/Geollect/Documents/ArcGIS/Projects/risk_4/risk_model.gdb\\\\GoG_ACountCC7'>"
      ]
     },
     "execution_count": 11,
     "metadata": {},
     "output_type": "execute_result"
    }
   ],
   "source": [
    "# Find attacks per cell\n",
    "# How to update this as more data becomes availible?\n",
    "# Which attributes are needed?\n",
    "# Going to need a 1-2-many for multiple attacks in cell -- relate?\n",
    "arcpy.SpatialJoin_analysis(\"GoGFN_land3\", \"c:\\\\Users\\\\Geollect\\\\Documents\\\\ArcGIS\\\\Projects\\\\risk_2\\\\risk_2.gdb\\\\attacks_GoG_2_XYTableToPoint1\",\"GoG_ACountCC7\",\"JOIN_ONE_TO_ONE\",\"KEEP_ALL\",\"\",\"COMPLETELY_CONTAINS\")"
   ]
  },
  {
   "cell_type": "markdown",
   "metadata": {},
   "source": [
    "# --- ^ WHAT TO DO IF THEY FALL ON THE BOUNDARY?  Increase precision, add attack counts as a QC. ---\n",
    "# OR ADD AN EXTRA STEP TO FIND THOSE WHICH FALL ON BOUNDARY"
   ]
  },
  {
   "cell_type": "code",
   "execution_count": 86,
   "metadata": {},
   "outputs": [
    {
     "data": {
      "text/plain": [
       "<Result 'c:/Users/Geollect/Documents/ArcGIS/Projects/risk_4/risk_model.gdb\\\\GoG_ACountCC3'>"
      ]
     },
     "execution_count": 86,
     "metadata": {},
     "output_type": "execute_result"
    }
   ],
   "source": [
    "### Attack density with several ips...\n",
    "# add attack density = 0 field. then sum (kinda like iteratively)\n",
    "\n",
    "# DIVIDE -- attacks/deg (deg^-1)\n",
    "arcpy.AddField_management('GoG_ACountCC3', \"attack_dens\", \"FLOAT\",\"\",\"5\",\"\",\"\",\"NULLABLE\",\"REQUIRED\", \"\")\n",
    "arcpy.CalculateField_management(\"GoG_ACountCC3\",\"attack_dens\", \"!Join_Count!/(!SA_3!)\", 'PYTHON3')"
   ]
  },
  {
   "cell_type": "code",
   "execution_count": null,
   "metadata": {},
   "outputs": [],
   "source": [
    "### Line density\n",
    "# Divide km of route within cell by area of cell (km^-1)"
   ]
  },
  {
   "cell_type": "code",
   "execution_count": null,
   "metadata": {},
   "outputs": [],
   "source": []
  },
  {
   "cell_type": "code",
   "execution_count": null,
   "metadata": {},
   "outputs": [],
   "source": [
    "# 1.\n",
    "# THIS IS VERY SLOW\n",
    "# THIS COULD BE DONE ON THE SERVER! SummarizeWithin_Geoanalytics <-- allows bins\n",
    "# WRONG UNITS!!!!\n",
    "arcpy.SummarizeWithin_analysis(\"GoG_ACountCC3\", \"c:/Users/Geollect/Documents/ArcGIS/Projects/risk_4\\\\Offshore_Traffic_18.shp\", \"traffic_density\", \"KEEP_ALL\", [['Shape_Leng', 'SUM']], \"ADD_SHAPE_SUM\", \"Kilometers\",\"\",\"\",\"\")\n",
    "# PERHAPS GROUP BY FIELD USING MMSI OR SOMETHING?\n"
   ]
  },
  {
   "cell_type": "code",
   "execution_count": null,
   "metadata": {},
   "outputs": [],
   "source": [
    "# 2. Split lines (then you get lots of lines...? - is this better for updating fields?) then dissolve?\n",
    "# Split is slow"
   ]
  },
  {
   "cell_type": "code",
   "execution_count": null,
   "metadata": {},
   "outputs": [],
   "source": [
    "# 3.Spatial join?\n",
    "# is slow"
   ]
  },
  {
   "cell_type": "code",
   "execution_count": null,
   "metadata": {},
   "outputs": [],
   "source": [
    "# 4. Intersect and dissolve?\n",
    "# SLOW - but is this because initial ip dataset is large? Each days worth of data will be small?\n",
    "arcpy.Intersect_analysis ([\"GoG_ACountCC3\", \"c:/Users/Geollect/Documents/ArcGIS/Projects/risk_4\\\\Offshore_Traffic_18.shp\"], \"Intersect_TFN\", \"ALL\", \"\", \"INPUT\")"
   ]
  },
  {
   "cell_type": "code",
   "execution_count": null,
   "metadata": {},
   "outputs": [],
   "source": [
    "# Should this be sum of TIME spent in cell? Is this known, or will this add in uncert?\n",
    "arcpy.Dissolve_management (in_features, out_feature_class, {dissolve_field}, {statistics_fields}, {multi_part}, {unsplit_lines})"
   ]
  },
  {
   "cell_type": "code",
   "execution_count": null,
   "metadata": {},
   "outputs": [],
   "source": [
    "# #attacks(perarea)/#vessels(perarea) --> Probability \n",
    "## Raster calculator\n",
    "# THIS HAS NOT WORKED CORRECTLY -- some cells with attacks empty\n",
    "# (km^-1)\n",
    "outRas = Raster(\"c:/Users/Geollect/Documents/ArcGIS/Projects/risk_4/risk_model.gdb/Attack_density\") / Raster(\"c:/Users/Geollect/Documents/ArcGIS/Projects/risk_4/risk_model.gdb/TD7\")\n",
    "outRas.save(\"c:/Users/Geollect/Documents/ArcGIS/Projects/risk_4/risk_model.gdb/attack_probability\")"
   ]
  },
  {
   "cell_type": "code",
   "execution_count": 80,
   "metadata": {},
   "outputs": [],
   "source": []
  },
  {
   "cell_type": "code",
   "execution_count": null,
   "metadata": {},
   "outputs": [],
   "source": [
    "# TRY A NUMPY METHODOLOGY --  is location/shape forgotten..? Can this be related..?"
   ]
  },
  {
   "cell_type": "code",
   "execution_count": null,
   "metadata": {},
   "outputs": [],
   "source": []
  },
  {
   "cell_type": "code",
   "execution_count": 8,
   "metadata": {},
   "outputs": [],
   "source": []
  },
  {
   "cell_type": "code",
   "execution_count": null,
   "metadata": {},
   "outputs": [],
   "source": [
    "# Contours?"
   ]
  },
  {
   "cell_type": "code",
   "execution_count": null,
   "metadata": {},
   "outputs": [],
   "source": []
  },
  {
   "cell_type": "code",
   "execution_count": null,
   "metadata": {},
   "outputs": [],
   "source": []
  },
  {
   "cell_type": "markdown",
   "metadata": {},
   "source": [
    "## Publish layer to ArcGIS online"
   ]
  },
  {
   "cell_type": "markdown",
   "metadata": {},
   "source": [
    "## --- Get to zip with wildcards, but without paths ---"
   ]
  },
  {
   "cell_type": "code",
   "execution_count": 145,
   "metadata": {},
   "outputs": [
    {
     "name": "stdout",
     "output_type": "stream",
     "text": [
      "File Name                                             Modified             Size\n",
      "Users/Geollect/Documents/ArcGIS/Projects/risk_2/Feb17_18_5.shp 2018-10-05 09:08:42      1594224\n"
     ]
    }
   ],
   "source": [
    "z = zipfile.ZipFile(\"c:/Users/Geollect/Documents/ArcGIS/Projects/risk_2/test4.zip\", \"w\")\n",
    "z.write(\"c:/Users/Geollect/Documents/ArcGIS/Projects/risk_2/Feb17_18_5.shp\")\n",
    "z.close()\n",
    "#z.printdir()"
   ]
  },
  {
   "cell_type": "code",
   "execution_count": 146,
   "metadata": {},
   "outputs": [],
   "source": [
    "pub_test = {'title':'publish_test',\n",
    "                'tags':'GoG, Feb17_18, test',\n",
    "                'type':'Shapefile'}"
   ]
  },
  {
   "cell_type": "code",
   "execution_count": null,
   "metadata": {},
   "outputs": [],
   "source": [
    "pub_test_1 = gis.content.add(pub_test,\n",
    "                data='c:/Users/Geollect/Documents/ArcGIS/Projects/risk_2/test4.zip')\n",
    "# Can be an URL to ArcGIS Server service (where the data is), or from if you give url up in GIS module?"
   ]
  },
  {
   "cell_type": "code",
   "execution_count": null,
   "metadata": {},
   "outputs": [],
   "source": [
    "pubtest_feature_layer = pub_test_1.publish()"
   ]
  },
  {
   "cell_type": "code",
   "execution_count": null,
   "metadata": {},
   "outputs": [],
   "source": []
  },
  {
   "cell_type": "code",
   "execution_count": null,
   "metadata": {},
   "outputs": [],
   "source": []
  },
  {
   "cell_type": "markdown",
   "metadata": {},
   "source": [
    "## Pull layer from ArcGIS online (later, this may all happen on the Server?)"
   ]
  },
  {
   "cell_type": "code",
   "execution_count": 69,
   "metadata": {},
   "outputs": [],
   "source": [
    "another_test = gis.content.search('title:publish_test', outside_org=False)\n",
    "TEMP = another_test[1]"
   ]
  },
  {
   "cell_type": "code",
   "execution_count": 70,
   "metadata": {},
   "outputs": [
    {
     "data": {
      "application/vnd.jupyter.widget-view+json": {
       "model_id": "39e6b0b525d14597881c9470156f42c1",
       "version_major": 2,
       "version_minor": 0
      },
      "text/plain": [
       "MapView(basemaps=['dark-gray', 'dark-gray-vector', 'gray', 'gray-vector', 'hybrid', 'national-geographic', 'oc…"
      ]
     },
     "metadata": {},
     "output_type": "display_data"
    }
   ],
   "source": [
    "map.add_layer(TEMP)\n",
    "map"
   ]
  },
  {
   "cell_type": "code",
   "execution_count": 72,
   "metadata": {},
   "outputs": [
    {
     "data": {
      "text/plain": [
       "[<FeatureLayer url:\"https://services.arcgis.com/P3ePLMYs2RVChkJx/arcgis/rest/services/World_Continents/FeatureServer/0\">,\n",
       " <FeatureLayer url:\"https://services1.arcgis.com/ZURaVO35aTK1Ugmq/arcgis/rest/services/feb_17_5test/FeatureServer/0\">,\n",
       " <FeatureLayer url:\"https://services1.arcgis.com/ZURaVO35aTK1Ugmq/arcgis/rest/services/feb_17_5test/FeatureServer/0\">]"
      ]
     },
     "execution_count": 72,
     "metadata": {},
     "output_type": "execute_result"
    }
   ],
   "source": [
    "map.layers"
   ]
  },
  {
   "cell_type": "code",
   "execution_count": null,
   "metadata": {},
   "outputs": [],
   "source": []
  },
  {
   "cell_type": "code",
   "execution_count": null,
   "metadata": {},
   "outputs": [],
   "source": []
  },
  {
   "cell_type": "code",
   "execution_count": 5,
   "metadata": {},
   "outputs": [],
   "source": []
  },
  {
   "cell_type": "code",
   "execution_count": null,
   "metadata": {},
   "outputs": [],
   "source": []
  },
  {
   "cell_type": "code",
   "execution_count": 19,
   "metadata": {},
   "outputs": [],
   "source": [
    "## ---- Update ----##"
   ]
  },
  {
   "cell_type": "code",
   "execution_count": null,
   "metadata": {},
   "outputs": [],
   "source": [
    "# Can select layers and then can use \"Calculate_Field\""
   ]
  },
  {
   "cell_type": "code",
   "execution_count": null,
   "metadata": {},
   "outputs": [],
   "source": []
  },
  {
   "cell_type": "code",
   "execution_count": null,
   "metadata": {},
   "outputs": [],
   "source": []
  },
  {
   "cell_type": "code",
   "execution_count": 153,
   "metadata": {},
   "outputs": [
    {
     "name": "stdout",
     "output_type": "stream",
     "text": [
      "OID is a type of OID with a length of 4\n",
      "Shape is a type of Geometry with a length of 0\n",
      "Shape_Length is a type of Double with a length of 8\n",
      "Shape_Area is a type of Double with a length of 8\n",
      "DUMMY is a type of Single with a length of 4\n",
      "SA_3 is a type of Single with a length of 4\n"
     ]
    }
   ],
   "source": [
    "#f = arcpy.ListFields('c:\\\\Users\\\\Geollect\\\\Documents\\\\ArcGIS\\\\Projects\\\\risk_4\\\\risk_model.gdb\\\\GoGFN2')\n",
    "#for field in f:\n",
    "#    print(\"{0} is a type of {1} with a length of {2}\"\n",
    "#          .format(field.name, field.type, field.length))"
   ]
  }
 ],
 "metadata": {
  "kernelspec": {
   "display_name": "Python 3",
   "language": "python",
   "name": "python3"
  },
  "language_info": {
   "codemirror_mode": {
    "name": "ipython",
    "version": 3
   },
   "file_extension": ".py",
   "mimetype": "text/x-python",
   "name": "python",
   "nbconvert_exporter": "python",
   "pygments_lexer": "ipython3",
   "version": "3.6.5"
  }
 },
 "nbformat": 4,
 "nbformat_minor": 2
}
