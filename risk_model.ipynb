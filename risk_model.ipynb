{
 "cells": [
  {
   "cell_type": "code",
   "execution_count": 2,
   "metadata": {},
   "outputs": [],
   "source": [
    "# Ryan J  Lloyd - Geollect\n",
    "# Load environments\n",
    "import os\n",
    "import arcgis\n",
    "import arcpy\n",
    "import pandas\n",
    "import csv\n",
    "import numpy\n",
    "import matplotlib\n",
    "import matplotlib.pyplot\n",
    "import pylab\n",
    "import zipfile\n",
    "from arcpy.sa import *"
   ]
  },
  {
   "cell_type": "markdown",
   "metadata": {},
   "source": [
    "## Set up connection to ArcOnline, and create the map"
   ]
  },
  {
   "cell_type": "code",
   "execution_count": 7,
   "metadata": {},
   "outputs": [
    {
     "data": {
      "application/vnd.jupyter.widget-view+json": {
       "model_id": "1379995dd0d445aa9bcc07657a0f2902",
       "version_major": 2,
       "version_minor": 0
      },
      "text/plain": [
       "MapView(basemaps=['dark-gray', 'dark-gray-vector', 'gray', 'gray-vector', 'hybrid', 'national-geographic', 'oc…"
      ]
     },
     "metadata": {},
     "output_type": "display_data"
    }
   ],
   "source": [
    "from arcgis.gis import GIS\n",
    "#Create annonymous connection to ArcGIS online\n",
    "gis = GIS(\"https://www.arcgis.com\", \"geollect_admin\", \"Geollect18\")\n",
    "# Load a map for GoG\n",
    "map = gis.map(\"Port Harcourt\", zoomlevel = 6)\n",
    "map"
   ]
  },
  {
   "cell_type": "code",
   "execution_count": 8,
   "metadata": {},
   "outputs": [],
   "source": [
    "flayer_search_result = gis.content.search('title:continents', outside_org=True)\n",
    "continents = flayer_search_result[0]\n",
    "flayer_search_result[0]\n",
    "map.add_layer(continents)\n",
    "# N.B had to download this for later on...\n",
    "#continents.id\n",
    "#continents_id = gis.content.get('57c1ade4fa7c4e2384e6a23f2b3bd254')"
   ]
  },
  {
   "cell_type": "markdown",
   "metadata": {},
   "source": [
    "## Read in the csv (play with using Python)"
   ]
  },
  {
   "cell_type": "code",
   "execution_count": null,
   "metadata": {},
   "outputs": [],
   "source": [
    "# Create dataframe using pandas (to look and interrogate the data)\n",
    "#df = pandas.read_csv(\"c:/Users/Geollect/Documents/ArcGIS/Projects/risk_2/geollect_gulfofguinea_msg123_feb2017.csv\",low_memory=False)\n",
    "#df.head(2)\n",
    "#A=msg123 = df.loc[:, [\"MMSI\",\"Latitude\",\"Longitude\"]]\n",
    "#msg123.head(2)\n",
    "#matplotlib.pyplot.scatter(df.Latitude,df.Longitude)"
   ]
  },
  {
   "cell_type": "markdown",
   "metadata": {},
   "source": [
    "##  Create a Feature Class/Layer from data"
   ]
  },
  {
   "cell_type": "code",
   "execution_count": 8,
   "metadata": {
    "scrolled": true
   },
   "outputs": [],
   "source": [
    "# Create an event layer?\n",
    "# arcpy.MakeXYEventLayer_management(\"c:/Users/Geollect/Documents/ArcGIS/Projects/risk_2/geollect_gulfofguinea_msg123_feb2017.csv\",\"Longitude\",\"Latitude\",\"eventlyr_123\",\"\",\"\")"
   ]
  },
  {
   "cell_type": "code",
   "execution_count": 11,
   "metadata": {},
   "outputs": [
    {
     "data": {
      "text/plain": [
       "<Result 'c:/Users/Geollect/Documents/ArcGIS/Projects/risk_4\\\\risk_model.gdb'>"
      ]
     },
     "execution_count": 11,
     "metadata": {},
     "output_type": "execute_result"
    }
   ],
   "source": [
    "# Set workspace\n",
    "arcpy.env.workspace = \"c:/Users/Geollect/Documents/ArcGIS/Projects/risk_4/\"\n",
    "\n",
    "# Set local variables\n",
    "out_folder_path = \"c:/Users/Geollect/Documents/ArcGIS/Projects/risk_4/\"\n",
    "out_name = \"risk_model.gdb\"\n",
    "\n",
    "# Execute CreateFileGDB\n",
    "arcpy.CreateFileGDB_management(out_folder_path, out_name)"
   ]
  },
  {
   "cell_type": "code",
   "execution_count": 5,
   "metadata": {},
   "outputs": [],
   "source": [
    "# Set workspace\n",
    "arcpy.env.workspace = \"c:/Users/Geollect/Documents/ArcGIS/Projects/risk_4/risk_model.gdb\""
   ]
  },
  {
   "cell_type": "code",
   "execution_count": null,
   "metadata": {},
   "outputs": [],
   "source": [
    "# Create feature class\n",
    "arcpy.management.XYTableToPoint(\"c:/Users/Geollect/Documents/ArcGIS/Projects/risk_2/geollect_gulfofguinea_msg18_feb2017.csv\",\"Feb17_18_5.shp\",\"Longitude\",\"Latitude\")"
   ]
  },
  {
   "cell_type": "code",
   "execution_count": 7,
   "metadata": {},
   "outputs": [
    {
     "data": {
      "text/plain": [
       "<Result 'c:\\\\Users\\\\Geollect\\\\Documents\\\\ArcGIS\\\\Projects\\\\risk_4\\\\risk_model.gdb'>"
      ]
     },
     "execution_count": 7,
     "metadata": {},
     "output_type": "execute_result"
    }
   ],
   "source": [
    "arcpy.FeatureClassToGeodatabase_conversion(\"c:/Users/Geollect/Documents/ArcGIS/Projects/risk_4/Feb17_18_5.shp\",'c:/Users/Geollect/Documents/ArcGIS/Projects/risk_4/risk_model.gdb')"
   ]
  },
  {
   "cell_type": "markdown",
   "metadata": {},
   "source": [
    "## Perhaps we could do some cheeky manipulation here..?"
   ]
  },
  {
   "cell_type": "code",
   "execution_count": null,
   "metadata": {},
   "outputs": [],
   "source": [
    "# --- Select arttibutes method ---"
   ]
  },
  {
   "cell_type": "code",
   "execution_count": null,
   "metadata": {},
   "outputs": [],
   "source": [
    "# Create lines (traffic) from MMSI\n",
    "# Join points by MMSI, with increasing time\n",
    "# arcpy.PointsToLine_management(\"c:\\\\Users\\\\Geollect\\\\Documents\\\\ArcGIS\\\\Projects\\\\risk_4\\\\Feb17_18_5.shp\",\"Feb17_18_lines.shp\", \"MMSI\",\"ISODate\")\n",
    "# Identify lines which cross continent \n",
    "# arcpy.MakeFeatureLayer_management(\"c:/Users/Geollect/Documents/ArcGIS/Projects/risk_4\\\\Feb17_18_lines.shp\",\"Feb17_traffic_lyr\")\n",
    "# arcpy.SelectLayerByLocation_management(\"Feb17_traffic_lyr\", \"INTERSECT\", \"c:/Users/Geollect/Documents/ArcGIS/Projects/risk_2/World_Continents.lyrx\",\"\", \"NEW_SELECTION\")\n",
    "# arcpy.CopyFeatures_management(\"Feb17_Traffic_lyr\", \"c:/Users/Geollect/Documents/ArcGIS/Projects/risk_4\\\\Select_test\")\n",
    "# Split these lines\n",
    "# arcpy.SplitLineAtPoint_management (\"c:\\\\Users\\\\Geollect\\\\Documents\\\\ArcGIS\\\\Projects\\\\risk_4\\\\CC_lines3.shp\", \"c:\\\\Users\\\\Geollect\\\\Documents\\\\ArcGIS\\\\Projects\\\\risk_4\\\\Feb17_18_5.shp\", \"c:\\\\Users\\\\Geollect\\\\Documents\\\\ArcGIS\\\\Projects\\\\risk_4\\\\Split_linesCC.shp\", \"10 Meters\")\n",
    "# Select line segments which do not cross continent \n",
    "# arcpy.MakeFeatureLayer_management(\"c:/Users/Geollect/Documents/ArcGIS/Projects/risk_4\\\\Feb17_18_lines.shp\",\"Feb17_traffic_lyr\")\n",
    "# arcpy.SelectLayerByLocation_management(\"Feb17_traffic_lyr\", \"INTERSECT\", \"c:/Users/Geollect/Documents/ArcGIS/Projects/risk_2/World_Continents.lyrx\",\"\", \"NEW_SELECTION\",\"INVERT\")\n",
    "# arcpy.CopyFeatures_management(\"Feb17_Traffic_lyr\", \"c:/Users/Geollect/Documents/ArcGIS/Projects/risk_4\\\\Select_test\")\n",
    "# Combine these with all lines that do not cross land (multiple ips)\n",
    "# arcpy.MakeFeatureLayer_management(\"c:/Users/Geollect/Documents/ArcGIS/Projects/risk_4\\\\Feb17_18_lines.shp\",\"Feb17_traffic_lyr\")"
   ]
  },
  {
   "cell_type": "code",
   "execution_count": null,
   "metadata": {},
   "outputs": [],
   "source": [
    "# Join points by MMSI, with increasing time\n",
    "arcpy.PointsToLine_management(\"c:\\\\Users\\\\Geollect\\\\Documents\\\\ArcGIS\\\\Projects\\\\risk_4\\\\Feb17_18_5.shp\",\"Feb17_18_lines.shp\", \"MMSI\",\"ISODate\")"
   ]
  },
  {
   "cell_type": "markdown",
   "metadata": {},
   "source": [
    "## --- NEED TO ADD IN LINE ATTRIBUTES - time, vessel type etc for later searches ----"
   ]
  },
  {
   "cell_type": "code",
   "execution_count": 18,
   "metadata": {},
   "outputs": [
    {
     "data": {
      "text/plain": [
       "<Result 'Feb17_traffic_lyr'>"
      ]
     },
     "execution_count": 18,
     "metadata": {},
     "output_type": "execute_result"
    }
   ],
   "source": [
    "# Identify lines which cross continent \n",
    "arcpy.MakeFeatureLayer_management(\"c:/Users/Geollect/Documents/ArcGIS/Projects/risk_4\\\\Feb17_18_lines.shp\",\"Feb17_traffic_lyr\")"
   ]
  },
  {
   "cell_type": "code",
   "execution_count": 19,
   "metadata": {},
   "outputs": [
    {
     "data": {
      "text/plain": [
       "<Result 'Feb17_traffic_lyr'>"
      ]
     },
     "execution_count": 19,
     "metadata": {},
     "output_type": "execute_result"
    }
   ],
   "source": [
    "arcpy.SelectLayerByLocation_management(\"Feb17_traffic_lyr\", \"INTERSECT\", \"c:/Users/Geollect/Documents/ArcGIS/Projects/risk_2/World_Continents.lyrx\",\"\", \"NEW_SELECTION\")"
   ]
  },
  {
   "cell_type": "code",
   "execution_count": null,
   "metadata": {},
   "outputs": [],
   "source": [
    "arcpy.CopyFeatures_management(\"Feb17_Traffic_lyr\", \"c:/Users/Geollect/Documents/ArcGIS/Projects/risk_4\\\\Select_test\")"
   ]
  },
  {
   "cell_type": "code",
   "execution_count": 5,
   "metadata": {},
   "outputs": [
    {
     "data": {
      "text/plain": [
       "<Result 'c:\\\\Users\\\\Geollect\\\\Documents\\\\ArcGIS\\\\Projects\\\\risk_4\\\\Stest_Split1.shp'>"
      ]
     },
     "execution_count": 5,
     "metadata": {},
     "output_type": "execute_result"
    }
   ],
   "source": [
    "# Split these lines (this is the longest t step- alternative?)\n",
    "arcpy.SplitLineAtPoint_management (\"c:\\\\Users\\\\Geollect\\\\Documents\\\\ArcGIS\\\\Projects\\\\risk_4\\\\Select_test.shp\", \"c:\\\\Users\\\\Geollect\\\\Documents\\\\ArcGIS\\\\Projects\\\\risk_4\\\\Feb17_18_5.shp\", \"c:\\\\Users\\\\Geollect\\\\Documents\\\\ArcGIS\\\\Projects\\\\risk_4\\\\Stest_Split1.shp\", \"10 Meters\")"
   ]
  },
  {
   "cell_type": "code",
   "execution_count": 10,
   "metadata": {},
   "outputs": [
    {
     "data": {
      "text/plain": [
       "<Result 'Splits_lyr'>"
      ]
     },
     "execution_count": 10,
     "metadata": {},
     "output_type": "execute_result"
    }
   ],
   "source": [
    "# Select line segments which do not cross continent \n",
    "arcpy.MakeFeatureLayer_management(\"c:/Users/Geollect/Documents/ArcGIS/Projects/risk_4\\\\Stest_Split1.shp\",\"Splits_lyr\")"
   ]
  },
  {
   "cell_type": "code",
   "execution_count": 11,
   "metadata": {},
   "outputs": [
    {
     "data": {
      "text/plain": [
       "<Result 'c:\\\\Users\\\\Geollect\\\\Documents\\\\ArcGIS\\\\Projects\\\\risk_4\\\\Splits_offshore.shp'>"
      ]
     },
     "execution_count": 11,
     "metadata": {},
     "output_type": "execute_result"
    }
   ],
   "source": [
    "arcpy.SelectLayerByLocation_management(\"Splits_lyr\", \"INTERSECT\", \"c:/Users/Geollect/Documents/ArcGIS/Projects/risk_2/World_Continents.lyrx\",\"\", \"NEW_SELECTION\",\"INVERT\")\n",
    "arcpy.CopyFeatures_management(\"Splits_lyr\", \"c:/Users/Geollect/Documents/ArcGIS/Projects/risk_4\\\\Splits_offshore\")"
   ]
  },
  {
   "cell_type": "code",
   "execution_count": 20,
   "metadata": {},
   "outputs": [
    {
     "data": {
      "text/plain": [
       "<Result 'c:\\\\Users\\\\Geollect\\\\Documents\\\\ArcGIS\\\\Projects\\\\risk_4\\\\whole_offshore.shp'>"
      ]
     },
     "execution_count": 20,
     "metadata": {},
     "output_type": "execute_result"
    }
   ],
   "source": [
    "# Select offshore ones from all \n",
    "arcpy.SelectLayerByLocation_management(\"Feb17_traffic_lyr\", \"INTERSECT\", \"c:/Users/Geollect/Documents/ArcGIS/Projects/risk_2/World_Continents.lyrx\",\"\", \"NEW_SELECTION\",\"INVERT\")\n",
    "arcpy.CopyFeatures_management(\"Feb17_Traffic_lyr\", \"c:/Users/Geollect/Documents/ArcGIS/Projects/risk_4\\\\whole_offshore\")"
   ]
  },
  {
   "cell_type": "code",
   "execution_count": 29,
   "metadata": {},
   "outputs": [
    {
     "data": {
      "text/plain": [
       "<Result 'c:/Users/Geollect/Documents/ArcGIS/Projects/risk_4/risk_model.gdb\\\\Offshore_traffic_lyr'>"
      ]
     },
     "execution_count": 29,
     "metadata": {},
     "output_type": "execute_result"
    }
   ],
   "source": [
    "# Combine these with all lines that do not cross land (multiple ips) - merge to shape file\n",
    "arcpy.Merge_management([\"c:/Users/Geollect/Documents/ArcGIS/Projects/risk_4\\\\Splits_offshore.shp\" , \"c:/Users/Geollect/Documents/ArcGIS/Projects/risk_4\\\\whole_offshore.shp\"],\"Offshore_traffic_lyr\")"
   ]
  },
  {
   "cell_type": "code",
   "execution_count": 30,
   "metadata": {},
   "outputs": [
    {
     "data": {
      "text/plain": [
       "<Result 'c:\\\\Users\\\\Geollect\\\\Documents\\\\ArcGIS\\\\Projects\\\\risk_4\\\\Offshore_Traffic_18.shp'>"
      ]
     },
     "execution_count": 30,
     "metadata": {},
     "output_type": "execute_result"
    }
   ],
   "source": [
    "# Select those less than 200 km - do this later when we have time included\n",
    "# SelectLayerByAttribute_management (\"Offshore_traffic_lyr\",\"NEW_SELECTION\",'\"Shape_Length\" < 200')\n",
    "arcpy.CopyFeatures_management(\"Offshore_traffic_lyr\", \"c:/Users/Geollect/Documents/ArcGIS/Projects/risk_4\\\\Offshore_Traffic_18\")"
   ]
  },
  {
   "cell_type": "markdown",
   "metadata": {},
   "source": [
    "# -------- TO DO: DELETE INT FILES- save to scratch? --------"
   ]
  },
  {
   "cell_type": "code",
   "execution_count": 30,
   "metadata": {},
   "outputs": [],
   "source": [
    "## Calculate density ## \n",
    "\n",
    "# LineDensity (in_polyline_features, population_field, {cell_size}, {search_radius}, {area_unit_scale_factor})\n",
    "outLDens4 = arcpy.sa.LineDensity(\"c:/Users/Geollect/Documents/ArcGIS/Projects/risk_4/Offshore_Traffic_18.shp\", \"NONE\", 0.5, 0.28, \"SQUARE_KILOMETERS\")\n",
    "# Note: should really be time (length) spent in cell...\n",
    "outLDens4.save(\"c:/Users/Geollect/Documents/ArcGIS/Projects/risk_4/risk_model.gdb/TD7\")"
   ]
  },
  {
   "cell_type": "code",
   "execution_count": 31,
   "metadata": {},
   "outputs": [],
   "source": [
    "## Load in attacks ##\n",
    "arcpy.management.XYTableToPoint(\"c:/Users/Geollect/Documents/ArcGIS/Projects/risk_2/attacks_GoG_2.csv\",\"c:/Users/Geollect/Documents/ArcGIS/Projects/risk_4/GoG_attacks_FND17.shp\",\"Longitude\",\"Latitude\")"
   ]
  },
  {
   "cell_type": "code",
   "execution_count": null,
   "metadata": {},
   "outputs": [],
   "source": [
    "# Attack density? (aha! This is where it'll need to be on the same grid...) fishnet or numpy?"
   ]
  },
  {
   "cell_type": "code",
   "execution_count": null,
   "metadata": {},
   "outputs": [],
   "source": [
    "# Point density\n",
    "\n",
    "\n"
   ]
  },
  {
   "cell_type": "code",
   "execution_count": 56,
   "metadata": {},
   "outputs": [],
   "source": [
    "# Point density (wrong)\n",
    "outPDens = arcpy.sa.PointDensity(\"c:/Users/Geollect/Documents/ArcGIS/Projects/risk_4/GoG_attacks_FND17.shp\", \"NONE\",\"0.5\", NbrCircle(0.28, \"MAP\"))\n",
    "outPDens.save(\"c:/Users/Geollect/Documents/ArcGIS/Projects/risk_4/risk_model.gdb/Attack_density\")"
   ]
  },
  {
   "cell_type": "code",
   "execution_count": 36,
   "metadata": {},
   "outputs": [],
   "source": []
  },
  {
   "cell_type": "code",
   "execution_count": 8,
   "metadata": {},
   "outputs": [],
   "source": [
    "## Raster calculator\n",
    "# THIS HAS NOT WORKED CORRECTLY\n",
    "outRas = Raster(\"c:/Users/Geollect/Documents/ArcGIS/Projects/risk_4/risk_model.gdb/Attack_density\") / Raster(\"c:/Users/Geollect/Documents/ArcGIS/Projects/risk_4/risk_model.gdb/TD7\")\n",
    "outRas.save(\"c:/Users/Geollect/Documents/ArcGIS/Projects/risk_4/risk_model.gdb/attack_probability\")"
   ]
  },
  {
   "cell_type": "code",
   "execution_count": null,
   "metadata": {},
   "outputs": [],
   "source": []
  },
  {
   "cell_type": "code",
   "execution_count": null,
   "metadata": {},
   "outputs": [],
   "source": []
  },
  {
   "cell_type": "code",
   "execution_count": null,
   "metadata": {},
   "outputs": [],
   "source": []
  },
  {
   "cell_type": "code",
   "execution_count": null,
   "metadata": {},
   "outputs": [],
   "source": [
    "## --- Spatial Join Method --- (SLOW)"
   ]
  },
  {
   "cell_type": "code",
   "execution_count": 24,
   "metadata": {},
   "outputs": [
    {
     "data": {
      "text/plain": [
       "<Result 'c:/Users/Geollect/Documents/ArcGIS/Projects/risk_4\\\\Feb17_18_lines.shp'>"
      ]
     },
     "execution_count": 24,
     "metadata": {},
     "output_type": "execute_result"
    }
   ],
   "source": [
    "# 1. Join points by MMSI, with increasing time\n",
    "# arcpy.PointsToLine_management(\"c:\\\\Users\\\\Geollect\\\\Documents\\\\ArcGIS\\\\Projects\\\\risk_4\\\\Feb17_18_5.shp\",\"Feb17_18_lines.shp\", \"MMSI\",\"ISODate\")\n",
    "# 2. Use join to identify lines which cross continent\n",
    "#arcpy.SpatialJoin_analysis(\"c:/Users/Geollect/Documents/ArcGIS/Projects/risk_4/Feb17_18_lines.shp\", \"c:/Users/Geollect/Documents/ArcGIS/Projects/risk_2/World_Continents.lyrx\", \"c:/Users/Geollect/Documents/ArcGIS/Projects/risk_4/Conti_lines\", \"JOIN_ONE_TO_ONE\", \"KEEP_ALL\",\"\", \"INTERSECT\")\n",
    "# 3. Seperate into two Features\n",
    "#SplitByAttributes_analysis (Input_Table, Target_Workspace, Split_Fields)\n",
    "#arcpy.SelectLayerByAttribute_management(\"c:\\\\Users\\\\Geollect\\\\Documents\\\\ArcGIS\\\\Projects\\\\risk_2\\\\Conti_lines.shp\",\"NEW_SELECTION\",\" [Join_Count] = '1' \")\n",
    "#arcpy.FeatureClassToFeatureClass_conversion(\"c:\\\\Users\\\\Geollect\\\\Documents\\\\ArcGIS\\\\Projects\\\\risk_4\\\\Conti_lines.shp\", \"c:\\\\Users\\\\Geollect\\\\Documents\\\\ArcGIS\\\\Projects\\\\risk_4\\\\\", \"CC_lines3\",\"Join_Count = 1 \")\n",
    "#arcpy.FeatureClassToGeodatabase_conversion(\"c:/Users/Geollect/Documents/ArcGIS/Projects/risk_4/CC_lines3.shp\",'c:/Users/Geollect/Documents/ArcGIS/Projects/risk_4/risk_model.gdb')\n",
    "# 4. Split line for those which cross continent (JC=1) N.B THIS TAKES A LONG TIME\n",
    "#arcpy.SplitLineAtPoint_management (\"c:\\\\Users\\\\Geollect\\\\Documents\\\\ArcGIS\\\\Projects\\\\risk_4\\\\CC_lines3.shp\", \"c:\\\\Users\\\\Geollect\\\\Documents\\\\ArcGIS\\\\Projects\\\\risk_4\\\\Feb17_18_5.shp\", \"c:\\\\Users\\\\Geollect\\\\Documents\\\\ArcGIS\\\\Projects\\\\risk_4\\\\Split_linesCC.shp\", \"10 Meters\")\n",
    "# 5. New feature for lines which do not cross -- JOIN_COUNT?\n",
    "#arcpy.FeatureClassToFeatureClass_conversion(\"c:\\\\Users\\\\Geollect\\\\Documents\\\\ArcGIS\\\\Projects\\\\risk_2\\\\Conti_splitlines.shp\", \"c:\\\\Users\\\\Geollect\\\\Documents\\\\ArcGIS\\\\Projects\\\\risk_2\\\\\", \"ocean_lines.shp\",\"Join_Count = 0\")\n",
    "# 5b. New feature class for origional lines which did not cross\n",
    "#arcpy.FeatureClassToFeatureClass_conversion(\"c:\\\\Users\\\\Geollect\\\\Documents\\\\ArcGIS\\\\Projects\\\\risk_2\\\\Conti_lines.shp\", \"c:\\\\Users\\\\Geollect\\\\Documents\\\\ArcGIS\\\\Projects\\\\risk_2\\\\\", \"O_lines3\",\"Join_Count = 0 \")"
   ]
  },
  {
   "cell_type": "markdown",
   "metadata": {},
   "source": [
    "## Publish layer to ArcGIS online"
   ]
  },
  {
   "cell_type": "markdown",
   "metadata": {},
   "source": [
    "## --- Get to zip with wildcards, but without paths ---"
   ]
  },
  {
   "cell_type": "code",
   "execution_count": 145,
   "metadata": {},
   "outputs": [
    {
     "name": "stdout",
     "output_type": "stream",
     "text": [
      "File Name                                             Modified             Size\n",
      "Users/Geollect/Documents/ArcGIS/Projects/risk_2/Feb17_18_5.shp 2018-10-05 09:08:42      1594224\n"
     ]
    }
   ],
   "source": [
    "z = zipfile.ZipFile(\"c:/Users/Geollect/Documents/ArcGIS/Projects/risk_2/test4.zip\", \"w\")\n",
    "z.write(\"c:/Users/Geollect/Documents/ArcGIS/Projects/risk_2/Feb17_18_5.shp\")\n",
    "z.close()\n",
    "#z.printdir()"
   ]
  },
  {
   "cell_type": "code",
   "execution_count": 146,
   "metadata": {},
   "outputs": [],
   "source": [
    "pub_test = {'title':'publish_test',\n",
    "                'tags':'GoG, Feb17_18, test',\n",
    "                'type':'Shapefile'}"
   ]
  },
  {
   "cell_type": "code",
   "execution_count": null,
   "metadata": {},
   "outputs": [],
   "source": [
    "pub_test_1 = gis.content.add(pub_test,\n",
    "                data='c:/Users/Geollect/Documents/ArcGIS/Projects/risk_2/test4.zip')\n",
    "# Can be an URL to ArcGIS Server service (where the data is), or from if you give url up in GIS module?"
   ]
  },
  {
   "cell_type": "code",
   "execution_count": null,
   "metadata": {},
   "outputs": [],
   "source": [
    "pubtest_feature_layer = pub_test_1.publish()"
   ]
  },
  {
   "cell_type": "code",
   "execution_count": null,
   "metadata": {},
   "outputs": [],
   "source": []
  },
  {
   "cell_type": "code",
   "execution_count": null,
   "metadata": {},
   "outputs": [],
   "source": []
  },
  {
   "cell_type": "markdown",
   "metadata": {},
   "source": [
    "## Pull layer from ArcGIS online (later, this may all happen on the Server?)"
   ]
  },
  {
   "cell_type": "code",
   "execution_count": 69,
   "metadata": {},
   "outputs": [],
   "source": [
    "another_test = gis.content.search('title:publish_test', outside_org=False)\n",
    "TEMP = another_test[1]"
   ]
  },
  {
   "cell_type": "code",
   "execution_count": 70,
   "metadata": {},
   "outputs": [
    {
     "data": {
      "application/vnd.jupyter.widget-view+json": {
       "model_id": "39e6b0b525d14597881c9470156f42c1",
       "version_major": 2,
       "version_minor": 0
      },
      "text/plain": [
       "MapView(basemaps=['dark-gray', 'dark-gray-vector', 'gray', 'gray-vector', 'hybrid', 'national-geographic', 'oc…"
      ]
     },
     "metadata": {},
     "output_type": "display_data"
    }
   ],
   "source": [
    "map.add_layer(TEMP)\n",
    "map"
   ]
  },
  {
   "cell_type": "code",
   "execution_count": 72,
   "metadata": {},
   "outputs": [
    {
     "data": {
      "text/plain": [
       "[<FeatureLayer url:\"https://services.arcgis.com/P3ePLMYs2RVChkJx/arcgis/rest/services/World_Continents/FeatureServer/0\">,\n",
       " <FeatureLayer url:\"https://services1.arcgis.com/ZURaVO35aTK1Ugmq/arcgis/rest/services/feb_17_5test/FeatureServer/0\">,\n",
       " <FeatureLayer url:\"https://services1.arcgis.com/ZURaVO35aTK1Ugmq/arcgis/rest/services/feb_17_5test/FeatureServer/0\">]"
      ]
     },
     "execution_count": 72,
     "metadata": {},
     "output_type": "execute_result"
    }
   ],
   "source": [
    "map.layers"
   ]
  },
  {
   "cell_type": "code",
   "execution_count": null,
   "metadata": {},
   "outputs": [],
   "source": []
  },
  {
   "cell_type": "code",
   "execution_count": null,
   "metadata": {},
   "outputs": [],
   "source": []
  },
  {
   "cell_type": "code",
   "execution_count": 5,
   "metadata": {},
   "outputs": [],
   "source": []
  },
  {
   "cell_type": "code",
   "execution_count": null,
   "metadata": {},
   "outputs": [],
   "source": []
  },
  {
   "cell_type": "code",
   "execution_count": null,
   "metadata": {},
   "outputs": [],
   "source": []
  },
  {
   "cell_type": "code",
   "execution_count": null,
   "metadata": {},
   "outputs": [],
   "source": []
  },
  {
   "cell_type": "code",
   "execution_count": null,
   "metadata": {},
   "outputs": [],
   "source": []
  }
 ],
 "metadata": {
  "kernelspec": {
   "display_name": "Python 3",
   "language": "python",
   "name": "python3"
  },
  "language_info": {
   "codemirror_mode": {
    "name": "ipython",
    "version": 3
   },
   "file_extension": ".py",
   "mimetype": "text/x-python",
   "name": "python",
   "nbconvert_exporter": "python",
   "pygments_lexer": "ipython3",
   "version": "3.6.5"
  }
 },
 "nbformat": 4,
 "nbformat_minor": 2
}
