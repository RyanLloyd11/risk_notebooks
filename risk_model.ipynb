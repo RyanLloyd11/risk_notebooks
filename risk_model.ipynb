{
 "cells": [
  {
   "cell_type": "code",
   "execution_count": 54,
   "metadata": {},
   "outputs": [],
   "source": [
    "# Load environments\n",
    "import os\n",
    "import arcgis\n",
    "import arcpy\n",
    "import pandas\n",
    "import csv\n",
    "import numpy\n",
    "import matplotlib\n",
    "import matplotlib.pyplot\n",
    "import pylab\n",
    "import zipfile\n",
    "from arcpy.sa import *"
   ]
  },
  {
   "cell_type": "markdown",
   "metadata": {},
   "source": [
    "## Set up connection to ArcOnline, and create the map"
   ]
  },
  {
   "cell_type": "code",
   "execution_count": 7,
   "metadata": {},
   "outputs": [
    {
     "data": {
      "application/vnd.jupyter.widget-view+json": {
       "model_id": "1379995dd0d445aa9bcc07657a0f2902",
       "version_major": 2,
       "version_minor": 0
      },
      "text/plain": [
       "MapView(basemaps=['dark-gray', 'dark-gray-vector', 'gray', 'gray-vector', 'hybrid', 'national-geographic', 'oc…"
      ]
     },
     "metadata": {},
     "output_type": "display_data"
    }
   ],
   "source": [
    "from arcgis.gis import GIS\n",
    "#Create annonymous connection to ArcGIS online\n",
    "gis = GIS(\"https://www.arcgis.com\", \"geollect_admin\", \"Geollect18\")\n",
    "# Load a map for GoG\n",
    "map = gis.map(\"Port Harcourt\", zoomlevel = 6)\n",
    "map"
   ]
  },
  {
   "cell_type": "code",
   "execution_count": 8,
   "metadata": {},
   "outputs": [],
   "source": [
    "flayer_search_result = gis.content.search('title:continents', outside_org=True)\n",
    "continents = flayer_search_result[0]\n",
    "flayer_search_result[0]\n",
    "map.add_layer(continents)\n",
    "# N.B had to download this for later on..."
   ]
  },
  {
   "cell_type": "code",
   "execution_count": 4,
   "metadata": {},
   "outputs": [],
   "source": [
    "#continents.id\n",
    "#continents_id = gis.content.get('57c1ade4fa7c4e2384e6a23f2b3bd254')"
   ]
  },
  {
   "cell_type": "markdown",
   "metadata": {},
   "source": [
    "## Read in the csv (play with using Python)"
   ]
  },
  {
   "cell_type": "code",
   "execution_count": 199,
   "metadata": {},
   "outputs": [
    {
     "data": {
      "text/html": [
       "<div>\n",
       "<style scoped>\n",
       "    .dataframe tbody tr th:only-of-type {\n",
       "        vertical-align: middle;\n",
       "    }\n",
       "\n",
       "    .dataframe tbody tr th {\n",
       "        vertical-align: top;\n",
       "    }\n",
       "\n",
       "    .dataframe thead th {\n",
       "        text-align: right;\n",
       "    }\n",
       "</style>\n",
       "<table border=\"1\" class=\"dataframe\">\n",
       "  <thead>\n",
       "    <tr style=\"text-align: right;\">\n",
       "      <th></th>\n",
       "      <th>ISODate</th>\n",
       "      <th>Message Type</th>\n",
       "      <th>Repeat Indicator</th>\n",
       "      <th>MMSI</th>\n",
       "      <th>objectID</th>\n",
       "      <th>Navigation Status</th>\n",
       "      <th>ROT</th>\n",
       "      <th>SOG</th>\n",
       "      <th>Position Accuracy</th>\n",
       "      <th>Longitude</th>\n",
       "      <th>Latitude</th>\n",
       "      <th>COG</th>\n",
       "      <th>HDG</th>\n",
       "      <th>Time Stamp</th>\n",
       "      <th>Maneuver Indicator</th>\n",
       "      <th>Spare</th>\n",
       "      <th>RAIM</th>\n",
       "      <th>Sub Message</th>\n",
       "      <th>AIS Channel</th>\n",
       "    </tr>\n",
       "  </thead>\n",
       "  <tbody>\n",
       "    <tr>\n",
       "      <th>0</th>\n",
       "      <td>2017-02-01T00:00:01Z</td>\n",
       "      <td>1</td>\n",
       "      <td>0</td>\n",
       "      <td>375069000</td>\n",
       "      <td>NaN</td>\n",
       "      <td>Under way using engine</td>\n",
       "      <td>NaN</td>\n",
       "      <td>6.1</td>\n",
       "      <td>0</td>\n",
       "      <td>8.088187</td>\n",
       "      <td>4.055142</td>\n",
       "      <td>209.7</td>\n",
       "      <td>206.0</td>\n",
       "      <td>59</td>\n",
       "      <td>0</td>\n",
       "      <td>0</td>\n",
       "      <td>0</td>\n",
       "      <td>0-3-25</td>\n",
       "      <td>B</td>\n",
       "    </tr>\n",
       "    <tr>\n",
       "      <th>1</th>\n",
       "      <td>2017-02-01T00:00:01Z</td>\n",
       "      <td>1</td>\n",
       "      <td>0</td>\n",
       "      <td>657135000</td>\n",
       "      <td>NaN</td>\n",
       "      <td>Under way using engine</td>\n",
       "      <td>0.0</td>\n",
       "      <td>0.1</td>\n",
       "      <td>0</td>\n",
       "      <td>7.157485</td>\n",
       "      <td>4.695683</td>\n",
       "      <td>175.8</td>\n",
       "      <td>59.0</td>\n",
       "      <td>2</td>\n",
       "      <td>0</td>\n",
       "      <td>0</td>\n",
       "      <td>0</td>\n",
       "      <td>0-1-0</td>\n",
       "      <td>B</td>\n",
       "    </tr>\n",
       "  </tbody>\n",
       "</table>\n",
       "</div>"
      ],
      "text/plain": [
       "                ISODate  Message Type  Repeat Indicator       MMSI  objectID  \\\n",
       "0  2017-02-01T00:00:01Z             1                 0  375069000       NaN   \n",
       "1  2017-02-01T00:00:01Z             1                 0  657135000       NaN   \n",
       "\n",
       "        Navigation Status  ROT  SOG  Position Accuracy  Longitude  Latitude  \\\n",
       "0  Under way using engine  NaN  6.1                  0   8.088187  4.055142   \n",
       "1  Under way using engine  0.0  0.1                  0   7.157485  4.695683   \n",
       "\n",
       "     COG    HDG Time Stamp  Maneuver Indicator  Spare  RAIM Sub Message  \\\n",
       "0  209.7  206.0         59                   0      0     0      0-3-25   \n",
       "1  175.8   59.0          2                   0      0     0       0-1-0   \n",
       "\n",
       "  AIS Channel  \n",
       "0           B  \n",
       "1           B  "
      ]
     },
     "execution_count": 199,
     "metadata": {},
     "output_type": "execute_result"
    }
   ],
   "source": [
    "# Create dataframe using pandas (to look and interrogate the data)\n",
    "#df = pandas.read_csv(\"c:/Users/Geollect/Documents/ArcGIS/Projects/risk_2/geollect_gulfofguinea_msg123_feb2017.csv\",low_memory=False)\n",
    "#df.head(2)"
   ]
  },
  {
   "cell_type": "code",
   "execution_count": 200,
   "metadata": {},
   "outputs": [
    {
     "data": {
      "text/html": [
       "<div>\n",
       "<style scoped>\n",
       "    .dataframe tbody tr th:only-of-type {\n",
       "        vertical-align: middle;\n",
       "    }\n",
       "\n",
       "    .dataframe tbody tr th {\n",
       "        vertical-align: top;\n",
       "    }\n",
       "\n",
       "    .dataframe thead th {\n",
       "        text-align: right;\n",
       "    }\n",
       "</style>\n",
       "<table border=\"1\" class=\"dataframe\">\n",
       "  <thead>\n",
       "    <tr style=\"text-align: right;\">\n",
       "      <th></th>\n",
       "      <th>MMSI</th>\n",
       "      <th>Latitude</th>\n",
       "      <th>Longitude</th>\n",
       "    </tr>\n",
       "  </thead>\n",
       "  <tbody>\n",
       "    <tr>\n",
       "      <th>0</th>\n",
       "      <td>375069000</td>\n",
       "      <td>4.055142</td>\n",
       "      <td>8.088187</td>\n",
       "    </tr>\n",
       "    <tr>\n",
       "      <th>1</th>\n",
       "      <td>657135000</td>\n",
       "      <td>4.695683</td>\n",
       "      <td>7.157485</td>\n",
       "    </tr>\n",
       "  </tbody>\n",
       "</table>\n",
       "</div>"
      ],
      "text/plain": [
       "        MMSI  Latitude  Longitude\n",
       "0  375069000  4.055142   8.088187\n",
       "1  657135000  4.695683   7.157485"
      ]
     },
     "execution_count": 200,
     "metadata": {},
     "output_type": "execute_result"
    }
   ],
   "source": [
    "#A=msg123 = df.loc[:, [\"MMSI\",\"Latitude\",\"Longitude\"]]\n",
    "#msg123.head(2)\n",
    "#matplotlib.pyplot.scatter(df.Latitude,df.Longitude)"
   ]
  },
  {
   "cell_type": "markdown",
   "metadata": {},
   "source": [
    "##  Create a Feature Class/Layer from data"
   ]
  },
  {
   "cell_type": "code",
   "execution_count": 8,
   "metadata": {
    "scrolled": true
   },
   "outputs": [],
   "source": [
    "# Create an event layer?\n",
    "# arcpy.MakeXYEventLayer_management(\"c:/Users/Geollect/Documents/ArcGIS/Projects/risk_2/geollect_gulfofguinea_msg123_feb2017.csv\",\"Longitude\",\"Latitude\",\"eventlyr_123\",\"\",\"\")"
   ]
  },
  {
   "cell_type": "code",
   "execution_count": 11,
   "metadata": {},
   "outputs": [
    {
     "data": {
      "text/plain": [
       "<Result 'c:/Users/Geollect/Documents/ArcGIS/Projects/risk_4\\\\risk_model.gdb'>"
      ]
     },
     "execution_count": 11,
     "metadata": {},
     "output_type": "execute_result"
    }
   ],
   "source": [
    "# Set workspace\n",
    "arcpy.env.workspace = \"c:/Users/Geollect/Documents/ArcGIS/Projects/risk_4/\"\n",
    "\n",
    "# Set local variables\n",
    "out_folder_path = \"c:/Users/Geollect/Documents/ArcGIS/Projects/risk_4/\"\n",
    "out_name = \"risk_model.gdb\"\n",
    "\n",
    "# Execute CreateFileGDB\n",
    "arcpy.CreateFileGDB_management(out_folder_path, out_name)"
   ]
  },
  {
   "cell_type": "code",
   "execution_count": 5,
   "metadata": {},
   "outputs": [],
   "source": [
    "# Set workspace\n",
    "arcpy.env.workspace = \"c:/Users/Geollect/Documents/ArcGIS/Projects/risk_4/risk_model.gdb\""
   ]
  },
  {
   "cell_type": "code",
   "execution_count": 5,
   "metadata": {},
   "outputs": [
    {
     "ename": "ExecuteError",
     "evalue": "Failed to execute. Parameters are not valid.\nERROR 000725: Output Feature Class: Dataset c:/Users/Geollect/Documents/ArcGIS/Projects/risk_4\\Feb17_18_5.shp already exists.\nFailed to execute (XYTableToPoint).\n",
     "output_type": "error",
     "traceback": [
      "\u001b[1;31m---------------------------------------------------------------------------\u001b[0m",
      "\u001b[1;31mExecuteError\u001b[0m                              Traceback (most recent call last)",
      "\u001b[1;32m<ipython-input-5-5c9f1a0234c5>\u001b[0m in \u001b[0;36m<module>\u001b[1;34m()\u001b[0m\n\u001b[0;32m      1\u001b[0m \u001b[1;31m# Create feature class\u001b[0m\u001b[1;33m\u001b[0m\u001b[1;33m\u001b[0m\u001b[0m\n\u001b[1;32m----> 2\u001b[1;33m \u001b[0marcpy\u001b[0m\u001b[1;33m.\u001b[0m\u001b[0mmanagement\u001b[0m\u001b[1;33m.\u001b[0m\u001b[0mXYTableToPoint\u001b[0m\u001b[1;33m(\u001b[0m\u001b[1;34m\"c:/Users/Geollect/Documents/ArcGIS/Projects/risk_2/geollect_gulfofguinea_msg18_feb2017.csv\"\u001b[0m\u001b[1;33m,\u001b[0m\u001b[1;34m\"Feb17_18_5.shp\"\u001b[0m\u001b[1;33m,\u001b[0m\u001b[1;34m\"Longitude\"\u001b[0m\u001b[1;33m,\u001b[0m\u001b[1;34m\"Latitude\"\u001b[0m\u001b[1;33m)\u001b[0m\u001b[1;33m\u001b[0m\u001b[0m\n\u001b[0m",
      "\u001b[1;32mC:\\Program Files\\ArcGIS\\Pro\\Resources\\ArcPy\\arcpy\\management.py\u001b[0m in \u001b[0;36mXYTableToPoint\u001b[1;34m(in_table, out_feature_class, x_field, y_field, z_field, coordinate_system)\u001b[0m\n\u001b[0;32m   3128\u001b[0m         \u001b[1;32mreturn\u001b[0m \u001b[0mretval\u001b[0m\u001b[1;33m\u001b[0m\u001b[0m\n\u001b[0;32m   3129\u001b[0m     \u001b[1;32mexcept\u001b[0m \u001b[0mException\u001b[0m \u001b[1;32mas\u001b[0m \u001b[0me\u001b[0m\u001b[1;33m:\u001b[0m\u001b[1;33m\u001b[0m\u001b[0m\n\u001b[1;32m-> 3130\u001b[1;33m         \u001b[1;32mraise\u001b[0m \u001b[0me\u001b[0m\u001b[1;33m\u001b[0m\u001b[0m\n\u001b[0m\u001b[0;32m   3131\u001b[0m \u001b[1;33m\u001b[0m\u001b[0m\n\u001b[0;32m   3132\u001b[0m \u001b[1;33m@\u001b[0m\u001b[0mgptooldoc\u001b[0m\u001b[1;33m(\u001b[0m\u001b[1;34m'XYToLine_management'\u001b[0m\u001b[1;33m,\u001b[0m \u001b[1;32mNone\u001b[0m\u001b[1;33m)\u001b[0m\u001b[1;33m\u001b[0m\u001b[0m\n",
      "\u001b[1;32mC:\\Program Files\\ArcGIS\\Pro\\Resources\\ArcPy\\arcpy\\management.py\u001b[0m in \u001b[0;36mXYTableToPoint\u001b[1;34m(in_table, out_feature_class, x_field, y_field, z_field, coordinate_system)\u001b[0m\n\u001b[0;32m   3125\u001b[0m     \u001b[1;32mfrom\u001b[0m \u001b[0marcpy\u001b[0m\u001b[1;33m.\u001b[0m\u001b[0marcobjects\u001b[0m\u001b[1;33m.\u001b[0m\u001b[0marcobjectconversion\u001b[0m \u001b[1;32mimport\u001b[0m \u001b[0mconvertArcObjectToPythonObject\u001b[0m\u001b[1;33m\u001b[0m\u001b[0m\n\u001b[0;32m   3126\u001b[0m     \u001b[1;32mtry\u001b[0m\u001b[1;33m:\u001b[0m\u001b[1;33m\u001b[0m\u001b[0m\n\u001b[1;32m-> 3127\u001b[1;33m         \u001b[0mretval\u001b[0m \u001b[1;33m=\u001b[0m \u001b[0mconvertArcObjectToPythonObject\u001b[0m\u001b[1;33m(\u001b[0m\u001b[0mgp\u001b[0m\u001b[1;33m.\u001b[0m\u001b[0mXYTableToPoint_management\u001b[0m\u001b[1;33m(\u001b[0m\u001b[1;33m*\u001b[0m\u001b[0mgp_fixargs\u001b[0m\u001b[1;33m(\u001b[0m\u001b[1;33m(\u001b[0m\u001b[0min_table\u001b[0m\u001b[1;33m,\u001b[0m \u001b[0mout_feature_class\u001b[0m\u001b[1;33m,\u001b[0m \u001b[0mx_field\u001b[0m\u001b[1;33m,\u001b[0m \u001b[0my_field\u001b[0m\u001b[1;33m,\u001b[0m \u001b[0mz_field\u001b[0m\u001b[1;33m,\u001b[0m \u001b[0mcoordinate_system\u001b[0m\u001b[1;33m)\u001b[0m\u001b[1;33m,\u001b[0m \u001b[1;32mTrue\u001b[0m\u001b[1;33m)\u001b[0m\u001b[1;33m)\u001b[0m\u001b[1;33m)\u001b[0m\u001b[1;33m\u001b[0m\u001b[0m\n\u001b[0m\u001b[0;32m   3128\u001b[0m         \u001b[1;32mreturn\u001b[0m \u001b[0mretval\u001b[0m\u001b[1;33m\u001b[0m\u001b[0m\n\u001b[0;32m   3129\u001b[0m     \u001b[1;32mexcept\u001b[0m \u001b[0mException\u001b[0m \u001b[1;32mas\u001b[0m \u001b[0me\u001b[0m\u001b[1;33m:\u001b[0m\u001b[1;33m\u001b[0m\u001b[0m\n",
      "\u001b[1;32mC:\\Program Files\\ArcGIS\\Pro\\Resources\\ArcPy\\arcpy\\geoprocessing\\_base.py\u001b[0m in \u001b[0;36m<lambda>\u001b[1;34m(*args)\u001b[0m\n\u001b[0;32m    494\u001b[0m         \u001b[0mval\u001b[0m \u001b[1;33m=\u001b[0m \u001b[0mgetattr\u001b[0m\u001b[1;33m(\u001b[0m\u001b[0mself\u001b[0m\u001b[1;33m.\u001b[0m\u001b[0m_gp\u001b[0m\u001b[1;33m,\u001b[0m \u001b[0mattr\u001b[0m\u001b[1;33m)\u001b[0m\u001b[1;33m\u001b[0m\u001b[0m\n\u001b[0;32m    495\u001b[0m         \u001b[1;32mif\u001b[0m \u001b[0mcallable\u001b[0m\u001b[1;33m(\u001b[0m\u001b[0mval\u001b[0m\u001b[1;33m)\u001b[0m\u001b[1;33m:\u001b[0m\u001b[1;33m\u001b[0m\u001b[0m\n\u001b[1;32m--> 496\u001b[1;33m             \u001b[1;32mreturn\u001b[0m \u001b[1;32mlambda\u001b[0m \u001b[1;33m*\u001b[0m\u001b[0margs\u001b[0m\u001b[1;33m:\u001b[0m \u001b[0mval\u001b[0m\u001b[1;33m(\u001b[0m\u001b[1;33m*\u001b[0m\u001b[0mgp_fixargs\u001b[0m\u001b[1;33m(\u001b[0m\u001b[0margs\u001b[0m\u001b[1;33m,\u001b[0m \u001b[1;32mTrue\u001b[0m\u001b[1;33m)\u001b[0m\u001b[1;33m)\u001b[0m\u001b[1;33m\u001b[0m\u001b[0m\n\u001b[0m\u001b[0;32m    497\u001b[0m         \u001b[1;32melse\u001b[0m\u001b[1;33m:\u001b[0m\u001b[1;33m\u001b[0m\u001b[0m\n\u001b[0;32m    498\u001b[0m             \u001b[1;32mreturn\u001b[0m \u001b[0mconvertArcObjectToPythonObject\u001b[0m\u001b[1;33m(\u001b[0m\u001b[0mval\u001b[0m\u001b[1;33m)\u001b[0m\u001b[1;33m\u001b[0m\u001b[0m\n",
      "\u001b[1;31mExecuteError\u001b[0m: Failed to execute. Parameters are not valid.\nERROR 000725: Output Feature Class: Dataset c:/Users/Geollect/Documents/ArcGIS/Projects/risk_4\\Feb17_18_5.shp already exists.\nFailed to execute (XYTableToPoint).\n"
     ]
    }
   ],
   "source": [
    "# Create feature class\n",
    "arcpy.management.XYTableToPoint(\"c:/Users/Geollect/Documents/ArcGIS/Projects/risk_2/geollect_gulfofguinea_msg18_feb2017.csv\",\"Feb17_18_5.shp\",\"Longitude\",\"Latitude\")"
   ]
  },
  {
   "cell_type": "code",
   "execution_count": 7,
   "metadata": {},
   "outputs": [
    {
     "data": {
      "text/plain": [
       "<Result 'c:\\\\Users\\\\Geollect\\\\Documents\\\\ArcGIS\\\\Projects\\\\risk_4\\\\risk_model.gdb'>"
      ]
     },
     "execution_count": 7,
     "metadata": {},
     "output_type": "execute_result"
    }
   ],
   "source": [
    "arcpy.FeatureClassToGeodatabase_conversion(\"c:/Users/Geollect/Documents/ArcGIS/Projects/risk_4/Feb17_18_5.shp\",'c:/Users/Geollect/Documents/ArcGIS/Projects/risk_4/risk_model.gdb')"
   ]
  },
  {
   "cell_type": "markdown",
   "metadata": {},
   "source": [
    "## Perhaps we could do some cheeky manipulation here..?"
   ]
  },
  {
   "cell_type": "code",
   "execution_count": null,
   "metadata": {},
   "outputs": [],
   "source": [
    "# --- Select arttibutes method ---"
   ]
  },
  {
   "cell_type": "code",
   "execution_count": null,
   "metadata": {},
   "outputs": [],
   "source": [
    "# Create lines (traffic) from MMSI\n",
    "# Join points by MMSI, with increasing time\n",
    "# arcpy.PointsToLine_management(\"c:\\\\Users\\\\Geollect\\\\Documents\\\\ArcGIS\\\\Projects\\\\risk_4\\\\Feb17_18_5.shp\",\"Feb17_18_lines.shp\", \"MMSI\",\"ISODate\")\n",
    "# Identify lines which cross continent \n",
    "# arcpy.MakeFeatureLayer_management(\"c:/Users/Geollect/Documents/ArcGIS/Projects/risk_4\\\\Feb17_18_lines.shp\",\"Feb17_traffic_lyr\")\n",
    "# arcpy.SelectLayerByLocation_management(\"Feb17_traffic_lyr\", \"INTERSECT\", \"c:/Users/Geollect/Documents/ArcGIS/Projects/risk_2/World_Continents.lyrx\",\"\", \"NEW_SELECTION\")\n",
    "# arcpy.CopyFeatures_management(\"Feb17_Traffic_lyr\", \"c:/Users/Geollect/Documents/ArcGIS/Projects/risk_4\\\\Select_test\")\n",
    "# Split these lines\n",
    "# arcpy.SplitLineAtPoint_management (\"c:\\\\Users\\\\Geollect\\\\Documents\\\\ArcGIS\\\\Projects\\\\risk_4\\\\CC_lines3.shp\", \"c:\\\\Users\\\\Geollect\\\\Documents\\\\ArcGIS\\\\Projects\\\\risk_4\\\\Feb17_18_5.shp\", \"c:\\\\Users\\\\Geollect\\\\Documents\\\\ArcGIS\\\\Projects\\\\risk_4\\\\Split_linesCC.shp\", \"10 Meters\")\n",
    "# Select line segments which do not cross continent \n",
    "# arcpy.MakeFeatureLayer_management(\"c:/Users/Geollect/Documents/ArcGIS/Projects/risk_4\\\\Feb17_18_lines.shp\",\"Feb17_traffic_lyr\")\n",
    "# arcpy.SelectLayerByLocation_management(\"Feb17_traffic_lyr\", \"INTERSECT\", \"c:/Users/Geollect/Documents/ArcGIS/Projects/risk_2/World_Continents.lyrx\",\"\", \"NEW_SELECTION\",\"INVERT\")\n",
    "# arcpy.CopyFeatures_management(\"Feb17_Traffic_lyr\", \"c:/Users/Geollect/Documents/ArcGIS/Projects/risk_4\\\\Select_test\")\n",
    "# Combine these with all lines that do not cross land (multiple ips)\n",
    "# arcpy.MakeFeatureLayer_management(\"c:/Users/Geollect/Documents/ArcGIS/Projects/risk_4\\\\Feb17_18_lines.shp\",\"Feb17_traffic_lyr\")"
   ]
  },
  {
   "cell_type": "code",
   "execution_count": null,
   "metadata": {},
   "outputs": [],
   "source": [
    "# Join points by MMSI, with increasing time\n",
    "arcpy.PointsToLine_management(\"c:\\\\Users\\\\Geollect\\\\Documents\\\\ArcGIS\\\\Projects\\\\risk_4\\\\Feb17_18_5.shp\",\"Feb17_18_lines.shp\", \"MMSI\",\"ISODate\")"
   ]
  },
  {
   "cell_type": "code",
   "execution_count": null,
   "metadata": {},
   "outputs": [],
   "source": [
    "# NEED TO ADD IN LINE ATTRIBUTES - time, vessel type etc for later searches"
   ]
  },
  {
   "cell_type": "code",
   "execution_count": 18,
   "metadata": {},
   "outputs": [
    {
     "data": {
      "text/plain": [
       "<Result 'Feb17_traffic_lyr'>"
      ]
     },
     "execution_count": 18,
     "metadata": {},
     "output_type": "execute_result"
    }
   ],
   "source": [
    "# Identify lines which cross continent \n",
    "arcpy.MakeFeatureLayer_management(\"c:/Users/Geollect/Documents/ArcGIS/Projects/risk_4\\\\Feb17_18_lines.shp\",\"Feb17_traffic_lyr\")"
   ]
  },
  {
   "cell_type": "code",
   "execution_count": 19,
   "metadata": {},
   "outputs": [
    {
     "data": {
      "text/plain": [
       "<Result 'Feb17_traffic_lyr'>"
      ]
     },
     "execution_count": 19,
     "metadata": {},
     "output_type": "execute_result"
    }
   ],
   "source": [
    "arcpy.SelectLayerByLocation_management(\"Feb17_traffic_lyr\", \"INTERSECT\", \"c:/Users/Geollect/Documents/ArcGIS/Projects/risk_2/World_Continents.lyrx\",\"\", \"NEW_SELECTION\")"
   ]
  },
  {
   "cell_type": "code",
   "execution_count": null,
   "metadata": {},
   "outputs": [],
   "source": [
    "arcpy.CopyFeatures_management(\"Feb17_Traffic_lyr\", \"c:/Users/Geollect/Documents/ArcGIS/Projects/risk_4\\\\Select_test\")"
   ]
  },
  {
   "cell_type": "code",
   "execution_count": 5,
   "metadata": {},
   "outputs": [
    {
     "data": {
      "text/plain": [
       "<Result 'c:\\\\Users\\\\Geollect\\\\Documents\\\\ArcGIS\\\\Projects\\\\risk_4\\\\Stest_Split1.shp'>"
      ]
     },
     "execution_count": 5,
     "metadata": {},
     "output_type": "execute_result"
    }
   ],
   "source": [
    "# Split these lines (this is the longest t step- alternative?)\n",
    "arcpy.SplitLineAtPoint_management (\"c:\\\\Users\\\\Geollect\\\\Documents\\\\ArcGIS\\\\Projects\\\\risk_4\\\\Select_test.shp\", \"c:\\\\Users\\\\Geollect\\\\Documents\\\\ArcGIS\\\\Projects\\\\risk_4\\\\Feb17_18_5.shp\", \"c:\\\\Users\\\\Geollect\\\\Documents\\\\ArcGIS\\\\Projects\\\\risk_4\\\\Stest_Split1.shp\", \"10 Meters\")"
   ]
  },
  {
   "cell_type": "code",
   "execution_count": 10,
   "metadata": {},
   "outputs": [
    {
     "data": {
      "text/plain": [
       "<Result 'Splits_lyr'>"
      ]
     },
     "execution_count": 10,
     "metadata": {},
     "output_type": "execute_result"
    }
   ],
   "source": [
    "# Select line segments which do not cross continent \n",
    "arcpy.MakeFeatureLayer_management(\"c:/Users/Geollect/Documents/ArcGIS/Projects/risk_4\\\\Stest_Split1.shp\",\"Splits_lyr\")"
   ]
  },
  {
   "cell_type": "code",
   "execution_count": 11,
   "metadata": {},
   "outputs": [
    {
     "data": {
      "text/plain": [
       "<Result 'c:\\\\Users\\\\Geollect\\\\Documents\\\\ArcGIS\\\\Projects\\\\risk_4\\\\Splits_offshore.shp'>"
      ]
     },
     "execution_count": 11,
     "metadata": {},
     "output_type": "execute_result"
    }
   ],
   "source": [
    "arcpy.SelectLayerByLocation_management(\"Splits_lyr\", \"INTERSECT\", \"c:/Users/Geollect/Documents/ArcGIS/Projects/risk_2/World_Continents.lyrx\",\"\", \"NEW_SELECTION\",\"INVERT\")\n",
    "arcpy.CopyFeatures_management(\"Splits_lyr\", \"c:/Users/Geollect/Documents/ArcGIS/Projects/risk_4\\\\Splits_offshore\")"
   ]
  },
  {
   "cell_type": "code",
   "execution_count": 20,
   "metadata": {},
   "outputs": [
    {
     "data": {
      "text/plain": [
       "<Result 'c:\\\\Users\\\\Geollect\\\\Documents\\\\ArcGIS\\\\Projects\\\\risk_4\\\\whole_offshore.shp'>"
      ]
     },
     "execution_count": 20,
     "metadata": {},
     "output_type": "execute_result"
    }
   ],
   "source": [
    "# Select offshore ones from all \n",
    "arcpy.SelectLayerByLocation_management(\"Feb17_traffic_lyr\", \"INTERSECT\", \"c:/Users/Geollect/Documents/ArcGIS/Projects/risk_2/World_Continents.lyrx\",\"\", \"NEW_SELECTION\",\"INVERT\")\n",
    "arcpy.CopyFeatures_management(\"Feb17_Traffic_lyr\", \"c:/Users/Geollect/Documents/ArcGIS/Projects/risk_4\\\\whole_offshore\")"
   ]
  },
  {
   "cell_type": "code",
   "execution_count": 29,
   "metadata": {},
   "outputs": [
    {
     "data": {
      "text/plain": [
       "<Result 'c:/Users/Geollect/Documents/ArcGIS/Projects/risk_4/risk_model.gdb\\\\Offshore_traffic_lyr'>"
      ]
     },
     "execution_count": 29,
     "metadata": {},
     "output_type": "execute_result"
    }
   ],
   "source": [
    "# Combine these with all lines that do not cross land (multiple ips) - merge to shape file\n",
    "arcpy.Merge_management([\"c:/Users/Geollect/Documents/ArcGIS/Projects/risk_4\\\\Splits_offshore.shp\" , \"c:/Users/Geollect/Documents/ArcGIS/Projects/risk_4\\\\whole_offshore.shp\"],\"Offshore_traffic_lyr\")"
   ]
  },
  {
   "cell_type": "code",
   "execution_count": 30,
   "metadata": {},
   "outputs": [
    {
     "data": {
      "text/plain": [
       "<Result 'c:\\\\Users\\\\Geollect\\\\Documents\\\\ArcGIS\\\\Projects\\\\risk_4\\\\Offshore_Traffic_18.shp'>"
      ]
     },
     "execution_count": 30,
     "metadata": {},
     "output_type": "execute_result"
    }
   ],
   "source": [
    "# Select those less than 200 km - do this later when we have time included\n",
    "# SelectLayerByAttribute_management (\"Offshore_traffic_lyr\",\"NEW_SELECTION\",'\"Shape_Length\" < 200')\n",
    "arcpy.CopyFeatures_management(\"Offshore_traffic_lyr\", \"c:/Users/Geollect/Documents/ArcGIS/Projects/risk_4\\\\Offshore_Traffic_18\")"
   ]
  },
  {
   "cell_type": "code",
   "execution_count": null,
   "metadata": {},
   "outputs": [],
   "source": [
    "# -------- TO DO: DELETE INT FILES --------"
   ]
  },
  {
   "cell_type": "code",
   "execution_count": null,
   "metadata": {},
   "outputs": [],
   "source": [
    "## Calculate density ## "
   ]
  },
  {
   "cell_type": "code",
   "execution_count": 30,
   "metadata": {},
   "outputs": [],
   "source": [
    "# LineDensity (in_polyline_features, population_field, {cell_size}, {search_radius}, {area_unit_scale_factor})\n",
    "outLDens4 = arcpy.sa.LineDensity(\"c:/Users/Geollect/Documents/ArcGIS/Projects/risk_4/Offshore_Traffic_18.shp\", \"NONE\", 0.5, 0.28, \"SQUARE_KILOMETERS\")\n",
    "# Note: should really be time (length) spent in cell...\n",
    "outLDens4.save(\"c:/Users/Geollect/Documents/ArcGIS/Projects/risk_4/risk_model.gdb/TD7\")"
   ]
  },
  {
   "cell_type": "code",
   "execution_count": 31,
   "metadata": {},
   "outputs": [],
   "source": [
    "## Load in attacks ##"
   ]
  },
  {
   "cell_type": "code",
   "execution_count": 39,
   "metadata": {},
   "outputs": [
    {
     "data": {
      "text/plain": [
       "<Result 'c:\\\\Users\\\\Geollect\\\\Documents\\\\ArcGIS\\\\Projects\\\\risk_4\\\\GoG_attacks_FND17.shp'>"
      ]
     },
     "execution_count": 39,
     "metadata": {},
     "output_type": "execute_result"
    }
   ],
   "source": [
    "arcpy.management.XYTableToPoint(\"c:/Users/Geollect/Documents/ArcGIS/Projects/risk_2/attacks_GoG_2.csv\",\"c:/Users/Geollect/Documents/ArcGIS/Projects/risk_4/GoG_attacks_FND17.shp\",\"Longitude\",\"Latitude\")"
   ]
  },
  {
   "cell_type": "code",
   "execution_count": null,
   "metadata": {},
   "outputs": [],
   "source": [
    "# -- Colour attack by time? --"
   ]
  },
  {
   "cell_type": "code",
   "execution_count": null,
   "metadata": {},
   "outputs": [],
   "source": [
    "# Attack density? (aha! This is where it'll need to be on the same grid...) fishnet or numpy?"
   ]
  },
  {
   "cell_type": "code",
   "execution_count": 56,
   "metadata": {},
   "outputs": [],
   "source": [
    "# Point density\n",
    "outPDens = arcpy.sa.PointDensity(\"c:/Users/Geollect/Documents/ArcGIS/Projects/risk_4/GoG_attacks_FND17.shp\", \"NONE\",\"0.5\", NbrCircle(0.28, \"MAP\"))\n",
    "outPDens.save(\"c:/Users/Geollect/Documents/ArcGIS/Projects/risk_4/risk_model.gdb/Attack_density\")"
   ]
  },
  {
   "cell_type": "code",
   "execution_count": 36,
   "metadata": {},
   "outputs": [],
   "source": []
  },
  {
   "cell_type": "code",
   "execution_count": null,
   "metadata": {},
   "outputs": [],
   "source": [
    "## Raster calculator"
   ]
  },
  {
   "cell_type": "code",
   "execution_count": null,
   "metadata": {},
   "outputs": [],
   "source": []
  },
  {
   "cell_type": "code",
   "execution_count": null,
   "metadata": {},
   "outputs": [],
   "source": [
    "## ---------"
   ]
  },
  {
   "cell_type": "code",
   "execution_count": null,
   "metadata": {},
   "outputs": [],
   "source": [
    "## --- Spatial Join Method --- (SLOW)"
   ]
  },
  {
   "cell_type": "code",
   "execution_count": 24,
   "metadata": {},
   "outputs": [
    {
     "data": {
      "text/plain": [
       "<Result 'c:/Users/Geollect/Documents/ArcGIS/Projects/risk_4\\\\Feb17_18_lines.shp'>"
      ]
     },
     "execution_count": 24,
     "metadata": {},
     "output_type": "execute_result"
    }
   ],
   "source": [
    "# 1. Join points by MMSI, with increasing time\n",
    "arcpy.PointsToLine_management(\"c:\\\\Users\\\\Geollect\\\\Documents\\\\ArcGIS\\\\Projects\\\\risk_4\\\\Feb17_18_5.shp\",\"Feb17_18_lines.shp\", \"MMSI\",\"ISODate\")"
   ]
  },
  {
   "cell_type": "code",
   "execution_count": 26,
   "metadata": {},
   "outputs": [
    {
     "data": {
      "text/plain": [
       "<Result 'c:\\\\Users\\\\Geollect\\\\Documents\\\\ArcGIS\\\\Projects\\\\risk_4\\\\Conti_lines.shp'>"
      ]
     },
     "execution_count": 26,
     "metadata": {},
     "output_type": "execute_result"
    }
   ],
   "source": [
    "# 2. Use join to identify lines which cross continent\n",
    "arcpy.SpatialJoin_analysis(\"c:/Users/Geollect/Documents/ArcGIS/Projects/risk_4/Feb17_18_lines.shp\", \"c:/Users/Geollect/Documents/ArcGIS/Projects/risk_2/World_Continents.lyrx\", \"c:/Users/Geollect/Documents/ArcGIS/Projects/risk_4/Conti_lines\", \"JOIN_ONE_TO_ONE\", \"KEEP_ALL\",\"\", \"INTERSECT\")"
   ]
  },
  {
   "cell_type": "code",
   "execution_count": 27,
   "metadata": {},
   "outputs": [
    {
     "data": {
      "text/plain": [
       "<Result 'c:\\\\Users\\\\Geollect\\\\Documents\\\\ArcGIS\\\\Projects\\\\risk_4\\\\CC_lines3.shp'>"
      ]
     },
     "execution_count": 27,
     "metadata": {},
     "output_type": "execute_result"
    }
   ],
   "source": [
    "# 3. Seperate into two Features\n",
    "#SplitByAttributes_analysis (Input_Table, Target_Workspace, Split_Fields)\n",
    "#arcpy.SelectLayerByAttribute_management(\"c:\\\\Users\\\\Geollect\\\\Documents\\\\ArcGIS\\\\Projects\\\\risk_2\\\\Conti_lines.shp\",\"NEW_SELECTION\",\" [Join_Count] = '1' \")\n",
    "arcpy.FeatureClassToFeatureClass_conversion(\"c:\\\\Users\\\\Geollect\\\\Documents\\\\ArcGIS\\\\Projects\\\\risk_4\\\\Conti_lines.shp\", \"c:\\\\Users\\\\Geollect\\\\Documents\\\\ArcGIS\\\\Projects\\\\risk_4\\\\\", \"CC_lines3\",\"Join_Count = 1 \")"
   ]
  },
  {
   "cell_type": "code",
   "execution_count": 6,
   "metadata": {},
   "outputs": [
    {
     "data": {
      "text/plain": [
       "<Result 'c:\\\\Users\\\\Geollect\\\\Documents\\\\ArcGIS\\\\Projects\\\\risk_4\\\\risk_model.gdb'>"
      ]
     },
     "execution_count": 6,
     "metadata": {},
     "output_type": "execute_result"
    }
   ],
   "source": [
    "arcpy.FeatureClassToGeodatabase_conversion(\"c:/Users/Geollect/Documents/ArcGIS/Projects/risk_4/CC_lines3.shp\",'c:/Users/Geollect/Documents/ArcGIS/Projects/risk_4/risk_model.gdb')"
   ]
  },
  {
   "cell_type": "code",
   "execution_count": null,
   "metadata": {},
   "outputs": [],
   "source": [
    "# 4. Split line for those which cross continent (JC=1) N.B THIS TAKES A LONG TIME\n",
    "arcpy.SplitLineAtPoint_management (\"c:\\\\Users\\\\Geollect\\\\Documents\\\\ArcGIS\\\\Projects\\\\risk_4\\\\CC_lines3.shp\", \"c:\\\\Users\\\\Geollect\\\\Documents\\\\ArcGIS\\\\Projects\\\\risk_4\\\\Feb17_18_5.shp\", \"c:\\\\Users\\\\Geollect\\\\Documents\\\\ArcGIS\\\\Projects\\\\risk_4\\\\Split_linesCC.shp\", \"10 Meters\")"
   ]
  },
  {
   "cell_type": "code",
   "execution_count": 8,
   "metadata": {},
   "outputs": [
    {
     "data": {
      "text/plain": [
       "<Result 'c:\\\\Users\\\\Geollect\\\\Documents\\\\ArcGIS\\\\Projects\\\\risk_4\\\\risk_model.gdb'>"
      ]
     },
     "execution_count": 8,
     "metadata": {},
     "output_type": "execute_result"
    }
   ],
   "source": [
    "arcpy.FeatureClassToGeodatabase_conversion(\"c:/Users/Geollect/Documents/ArcGIS/Projects/risk_4/Split_linesCC.shp\",'c:/Users/Geollect/Documents/ArcGIS/Projects/risk_4/risk_model.gdb')"
   ]
  },
  {
   "cell_type": "code",
   "execution_count": 10,
   "metadata": {},
   "outputs": [
    {
     "ename": "ExecuteError",
     "evalue": "ERROR 999999: Something unexpected caused the tool to fail. Please refer to the error help for potential solutions, or contact Esri Technical Support http://esriurl.com/support.\nERROR: code:400, , Unable to perform query. Please check your parameters., Bad syntax in request.\nFailed to execute (SpatialJoin).\n",
     "output_type": "error",
     "traceback": [
      "\u001b[1;31m---------------------------------------------------------------------------\u001b[0m",
      "\u001b[1;31mExecuteError\u001b[0m                              Traceback (most recent call last)",
      "\u001b[1;32m<ipython-input-10-b98d58ff5d73>\u001b[0m in \u001b[0;36m<module>\u001b[1;34m()\u001b[0m\n\u001b[0;32m      2\u001b[0m \u001b[1;33m\u001b[0m\u001b[0m\n\u001b[0;32m      3\u001b[0m \u001b[1;31m# 4b. Identify split lines which cross (dividing dataset up should make it quicker?)\u001b[0m\u001b[1;33m\u001b[0m\u001b[1;33m\u001b[0m\u001b[0m\n\u001b[1;32m----> 4\u001b[1;33m \u001b[0marcpy\u001b[0m\u001b[1;33m.\u001b[0m\u001b[0mSpatialJoin_analysis\u001b[0m\u001b[1;33m(\u001b[0m\u001b[1;34m\"c:/Users/Geollect/Documents/ArcGIS/Projects/risk_4/Split_linesCC.shp\"\u001b[0m\u001b[1;33m,\u001b[0m \u001b[1;34m\"c:/Users/Geollect/Documents/ArcGIS/Projects/risk_2/World_Continents.lyrx\"\u001b[0m\u001b[1;33m,\u001b[0m \u001b[1;34m\"c:/Users/Geollect/Documents/ArcGIS/Projects/risk_4/Conti_splitlines2.shp\"\u001b[0m\u001b[1;33m,\u001b[0m \u001b[1;34m\"JOIN_ONE_TO_ONE\"\u001b[0m\u001b[1;33m,\u001b[0m \u001b[1;34m\"KEEP_ALL\"\u001b[0m\u001b[1;33m,\u001b[0m\u001b[1;34m\"#\"\u001b[0m\u001b[1;33m,\u001b[0m \u001b[1;34m\"INTERSECT\"\u001b[0m\u001b[1;33m)\u001b[0m\u001b[1;33m\u001b[0m\u001b[0m\n\u001b[0m",
      "\u001b[1;32mC:\\Program Files\\ArcGIS\\Pro\\Resources\\ArcPy\\arcpy\\analysis.py\u001b[0m in \u001b[0;36mSpatialJoin\u001b[1;34m(target_features, join_features, out_feature_class, join_operation, join_type, field_mapping, match_option, search_radius, distance_field_name)\u001b[0m\n\u001b[0;32m    636\u001b[0m         \u001b[1;32mreturn\u001b[0m \u001b[0mretval\u001b[0m\u001b[1;33m\u001b[0m\u001b[0m\n\u001b[0;32m    637\u001b[0m     \u001b[1;32mexcept\u001b[0m \u001b[0mException\u001b[0m \u001b[1;32mas\u001b[0m \u001b[0me\u001b[0m\u001b[1;33m:\u001b[0m\u001b[1;33m\u001b[0m\u001b[0m\n\u001b[1;32m--> 638\u001b[1;33m         \u001b[1;32mraise\u001b[0m \u001b[0me\u001b[0m\u001b[1;33m\u001b[0m\u001b[0m\n\u001b[0m\u001b[0;32m    639\u001b[0m \u001b[1;33m\u001b[0m\u001b[0m\n\u001b[0;32m    640\u001b[0m \u001b[1;33m@\u001b[0m\u001b[0mgptooldoc\u001b[0m\u001b[1;33m(\u001b[0m\u001b[1;34m'SymDiff_analysis'\u001b[0m\u001b[1;33m,\u001b[0m \u001b[1;32mNone\u001b[0m\u001b[1;33m)\u001b[0m\u001b[1;33m\u001b[0m\u001b[0m\n",
      "\u001b[1;32mC:\\Program Files\\ArcGIS\\Pro\\Resources\\ArcPy\\arcpy\\analysis.py\u001b[0m in \u001b[0;36mSpatialJoin\u001b[1;34m(target_features, join_features, out_feature_class, join_operation, join_type, field_mapping, match_option, search_radius, distance_field_name)\u001b[0m\n\u001b[0;32m    633\u001b[0m     \u001b[1;32mfrom\u001b[0m \u001b[0marcpy\u001b[0m\u001b[1;33m.\u001b[0m\u001b[0marcobjects\u001b[0m\u001b[1;33m.\u001b[0m\u001b[0marcobjectconversion\u001b[0m \u001b[1;32mimport\u001b[0m \u001b[0mconvertArcObjectToPythonObject\u001b[0m\u001b[1;33m\u001b[0m\u001b[0m\n\u001b[0;32m    634\u001b[0m     \u001b[1;32mtry\u001b[0m\u001b[1;33m:\u001b[0m\u001b[1;33m\u001b[0m\u001b[0m\n\u001b[1;32m--> 635\u001b[1;33m         \u001b[0mretval\u001b[0m \u001b[1;33m=\u001b[0m \u001b[0mconvertArcObjectToPythonObject\u001b[0m\u001b[1;33m(\u001b[0m\u001b[0mgp\u001b[0m\u001b[1;33m.\u001b[0m\u001b[0mSpatialJoin_analysis\u001b[0m\u001b[1;33m(\u001b[0m\u001b[1;33m*\u001b[0m\u001b[0mgp_fixargs\u001b[0m\u001b[1;33m(\u001b[0m\u001b[1;33m(\u001b[0m\u001b[0mtarget_features\u001b[0m\u001b[1;33m,\u001b[0m \u001b[0mjoin_features\u001b[0m\u001b[1;33m,\u001b[0m \u001b[0mout_feature_class\u001b[0m\u001b[1;33m,\u001b[0m \u001b[0mjoin_operation\u001b[0m\u001b[1;33m,\u001b[0m \u001b[0mjoin_type\u001b[0m\u001b[1;33m,\u001b[0m \u001b[0mfield_mapping\u001b[0m\u001b[1;33m,\u001b[0m \u001b[0mmatch_option\u001b[0m\u001b[1;33m,\u001b[0m \u001b[0msearch_radius\u001b[0m\u001b[1;33m,\u001b[0m \u001b[0mdistance_field_name\u001b[0m\u001b[1;33m)\u001b[0m\u001b[1;33m,\u001b[0m \u001b[1;32mTrue\u001b[0m\u001b[1;33m)\u001b[0m\u001b[1;33m)\u001b[0m\u001b[1;33m)\u001b[0m\u001b[1;33m\u001b[0m\u001b[0m\n\u001b[0m\u001b[0;32m    636\u001b[0m         \u001b[1;32mreturn\u001b[0m \u001b[0mretval\u001b[0m\u001b[1;33m\u001b[0m\u001b[0m\n\u001b[0;32m    637\u001b[0m     \u001b[1;32mexcept\u001b[0m \u001b[0mException\u001b[0m \u001b[1;32mas\u001b[0m \u001b[0me\u001b[0m\u001b[1;33m:\u001b[0m\u001b[1;33m\u001b[0m\u001b[0m\n",
      "\u001b[1;32mC:\\Program Files\\ArcGIS\\Pro\\Resources\\ArcPy\\arcpy\\geoprocessing\\_base.py\u001b[0m in \u001b[0;36m<lambda>\u001b[1;34m(*args)\u001b[0m\n\u001b[0;32m    494\u001b[0m         \u001b[0mval\u001b[0m \u001b[1;33m=\u001b[0m \u001b[0mgetattr\u001b[0m\u001b[1;33m(\u001b[0m\u001b[0mself\u001b[0m\u001b[1;33m.\u001b[0m\u001b[0m_gp\u001b[0m\u001b[1;33m,\u001b[0m \u001b[0mattr\u001b[0m\u001b[1;33m)\u001b[0m\u001b[1;33m\u001b[0m\u001b[0m\n\u001b[0;32m    495\u001b[0m         \u001b[1;32mif\u001b[0m \u001b[0mcallable\u001b[0m\u001b[1;33m(\u001b[0m\u001b[0mval\u001b[0m\u001b[1;33m)\u001b[0m\u001b[1;33m:\u001b[0m\u001b[1;33m\u001b[0m\u001b[0m\n\u001b[1;32m--> 496\u001b[1;33m             \u001b[1;32mreturn\u001b[0m \u001b[1;32mlambda\u001b[0m \u001b[1;33m*\u001b[0m\u001b[0margs\u001b[0m\u001b[1;33m:\u001b[0m \u001b[0mval\u001b[0m\u001b[1;33m(\u001b[0m\u001b[1;33m*\u001b[0m\u001b[0mgp_fixargs\u001b[0m\u001b[1;33m(\u001b[0m\u001b[0margs\u001b[0m\u001b[1;33m,\u001b[0m \u001b[1;32mTrue\u001b[0m\u001b[1;33m)\u001b[0m\u001b[1;33m)\u001b[0m\u001b[1;33m\u001b[0m\u001b[0m\n\u001b[0m\u001b[0;32m    497\u001b[0m         \u001b[1;32melse\u001b[0m\u001b[1;33m:\u001b[0m\u001b[1;33m\u001b[0m\u001b[0m\n\u001b[0;32m    498\u001b[0m             \u001b[1;32mreturn\u001b[0m \u001b[0mconvertArcObjectToPythonObject\u001b[0m\u001b[1;33m(\u001b[0m\u001b[0mval\u001b[0m\u001b[1;33m)\u001b[0m\u001b[1;33m\u001b[0m\u001b[0m\n",
      "\u001b[1;31mExecuteError\u001b[0m: ERROR 999999: Something unexpected caused the tool to fail. Please refer to the error help for potential solutions, or contact Esri Technical Support http://esriurl.com/support.\nERROR: code:400, , Unable to perform query. Please check your parameters., Bad syntax in request.\nFailed to execute (SpatialJoin).\n"
     ]
    }
   ],
   "source": [
    "# 4b. Identify split lines which cross (dividing dataset up should've made this quicker?)\n",
    "#arcpy.SpatialJoin_analysis(\"c:/Users/Geollect/Documents/ArcGIS/Projects/risk_4/Split_linesCC.shp\", \"c:/Users/Geollect/Documents/ArcGIS/Projects/risk_2/World_Continents.lyrx\", \"c:/Users/Geollect/Documents/ArcGIS/Projects/risk_4/Conti_splitlines2.shp\", \"JOIN_ONE_TO_ONE\", \"KEEP_ALL\",\"#\", \"INTERSECT\")\n",
    "# Bad syntax error- check parameters?"
   ]
  },
  {
   "cell_type": "code",
   "execution_count": null,
   "metadata": {},
   "outputs": [],
   "source": [
    "# 5. New feature for lines which do not cross -- JOIN_COUNT?\n",
    "arcpy.FeatureClassToFeatureClass_conversion(\"c:\\\\Users\\\\Geollect\\\\Documents\\\\ArcGIS\\\\Projects\\\\risk_2\\\\Conti_splitlines.shp\", \"c:\\\\Users\\\\Geollect\\\\Documents\\\\ArcGIS\\\\Projects\\\\risk_2\\\\\", \"ocean_lines.shp\",\"Join_Count = 0\")"
   ]
  },
  {
   "cell_type": "code",
   "execution_count": null,
   "metadata": {},
   "outputs": [],
   "source": [
    "# 5b. New feature class for origional lines which did not cross\n",
    "arcpy.FeatureClassToFeatureClass_conversion(\"c:\\\\Users\\\\Geollect\\\\Documents\\\\ArcGIS\\\\Projects\\\\risk_2\\\\Conti_lines.shp\", \"c:\\\\Users\\\\Geollect\\\\Documents\\\\ArcGIS\\\\Projects\\\\risk_2\\\\\", \"O_lines3\",\"Join_Count = 0 \")"
   ]
  },
  {
   "cell_type": "code",
   "execution_count": null,
   "metadata": {},
   "outputs": [],
   "source": [
    "# 6. Appends features class of all lines which do not cross\n",
    "# Merge ----------------------------------------------------\n",
    "# ocean_lines.shp + O_lines3.shp"
   ]
  },
  {
   "cell_type": "code",
   "execution_count": null,
   "metadata": {},
   "outputs": [],
   "source": [
    "# 7. Remove lines greater than 200 km, (SQL?)"
   ]
  },
  {
   "cell_type": "code",
   "execution_count": null,
   "metadata": {},
   "outputs": [],
   "source": [
    "# Left with just ocean going routes -- Calculate density"
   ]
  },
  {
   "cell_type": "code",
   "execution_count": null,
   "metadata": {},
   "outputs": [],
   "source": [
    "# ----"
   ]
  },
  {
   "cell_type": "code",
   "execution_count": 173,
   "metadata": {},
   "outputs": [],
   "source": [
    "## Calculate line densities"
   ]
  },
  {
   "cell_type": "code",
   "execution_count": null,
   "metadata": {},
   "outputs": [],
   "source": []
  },
  {
   "cell_type": "code",
   "execution_count": null,
   "metadata": {},
   "outputs": [],
   "source": [
    "# Load in attacks"
   ]
  },
  {
   "cell_type": "code",
   "execution_count": null,
   "metadata": {},
   "outputs": [],
   "source": [
    "# Can just do raster math\n",
    "# Do Division - for each cell?\n",
    "# Then we're going to get small cells with values.. how to generalise?"
   ]
  },
  {
   "cell_type": "code",
   "execution_count": null,
   "metadata": {},
   "outputs": [],
   "source": []
  },
  {
   "cell_type": "code",
   "execution_count": null,
   "metadata": {},
   "outputs": [],
   "source": []
  },
  {
   "cell_type": "code",
   "execution_count": null,
   "metadata": {},
   "outputs": [],
   "source": []
  },
  {
   "cell_type": "markdown",
   "metadata": {},
   "source": [
    "## Publish layer to ArcGIS online"
   ]
  },
  {
   "cell_type": "markdown",
   "metadata": {},
   "source": [
    "## Get to zip with wildcards, but without paths"
   ]
  },
  {
   "cell_type": "code",
   "execution_count": 145,
   "metadata": {},
   "outputs": [
    {
     "name": "stdout",
     "output_type": "stream",
     "text": [
      "File Name                                             Modified             Size\n",
      "Users/Geollect/Documents/ArcGIS/Projects/risk_2/Feb17_18_5.shp 2018-10-05 09:08:42      1594224\n"
     ]
    }
   ],
   "source": [
    "z = zipfile.ZipFile(\"c:/Users/Geollect/Documents/ArcGIS/Projects/risk_2/test4.zip\", \"w\")\n",
    "z.write(\"c:/Users/Geollect/Documents/ArcGIS/Projects/risk_2/Feb17_18_5.shp\")\n",
    "z.close()\n",
    "#z.printdir()"
   ]
  },
  {
   "cell_type": "code",
   "execution_count": 146,
   "metadata": {},
   "outputs": [],
   "source": [
    "pub_test = {'title':'publish_test',\n",
    "                'tags':'GoG, Feb17_18, test',\n",
    "                'type':'Shapefile'}"
   ]
  },
  {
   "cell_type": "code",
   "execution_count": null,
   "metadata": {},
   "outputs": [],
   "source": [
    "pub_test_1 = gis.content.add(pub_test,\n",
    "                data='c:/Users/Geollect/Documents/ArcGIS/Projects/risk_2/test4.zip')\n",
    "# Can be an URL to ArcGIS Server service (where the data is), or from if you give url up in GIS module?"
   ]
  },
  {
   "cell_type": "code",
   "execution_count": null,
   "metadata": {},
   "outputs": [],
   "source": [
    "pubtest_feature_layer = pub_test_1.publish()"
   ]
  },
  {
   "cell_type": "code",
   "execution_count": null,
   "metadata": {},
   "outputs": [],
   "source": []
  },
  {
   "cell_type": "code",
   "execution_count": null,
   "metadata": {},
   "outputs": [],
   "source": []
  },
  {
   "cell_type": "markdown",
   "metadata": {},
   "source": [
    "## Pull layer from ArcGIS online (later, this may all happen on the Server?)"
   ]
  },
  {
   "cell_type": "code",
   "execution_count": 69,
   "metadata": {},
   "outputs": [],
   "source": [
    "another_test = gis.content.search('title:publish_test', outside_org=False)\n",
    "TEMP = another_test[1]"
   ]
  },
  {
   "cell_type": "code",
   "execution_count": 70,
   "metadata": {},
   "outputs": [
    {
     "data": {
      "application/vnd.jupyter.widget-view+json": {
       "model_id": "39e6b0b525d14597881c9470156f42c1",
       "version_major": 2,
       "version_minor": 0
      },
      "text/plain": [
       "MapView(basemaps=['dark-gray', 'dark-gray-vector', 'gray', 'gray-vector', 'hybrid', 'national-geographic', 'oc…"
      ]
     },
     "metadata": {},
     "output_type": "display_data"
    }
   ],
   "source": [
    "map.add_layer(TEMP)\n",
    "map"
   ]
  },
  {
   "cell_type": "code",
   "execution_count": 72,
   "metadata": {},
   "outputs": [
    {
     "data": {
      "text/plain": [
       "[<FeatureLayer url:\"https://services.arcgis.com/P3ePLMYs2RVChkJx/arcgis/rest/services/World_Continents/FeatureServer/0\">,\n",
       " <FeatureLayer url:\"https://services1.arcgis.com/ZURaVO35aTK1Ugmq/arcgis/rest/services/feb_17_5test/FeatureServer/0\">,\n",
       " <FeatureLayer url:\"https://services1.arcgis.com/ZURaVO35aTK1Ugmq/arcgis/rest/services/feb_17_5test/FeatureServer/0\">]"
      ]
     },
     "execution_count": 72,
     "metadata": {},
     "output_type": "execute_result"
    }
   ],
   "source": [
    "map.layers"
   ]
  },
  {
   "cell_type": "code",
   "execution_count": null,
   "metadata": {},
   "outputs": [],
   "source": []
  },
  {
   "cell_type": "code",
   "execution_count": null,
   "metadata": {},
   "outputs": [],
   "source": []
  },
  {
   "cell_type": "code",
   "execution_count": 5,
   "metadata": {},
   "outputs": [],
   "source": []
  },
  {
   "cell_type": "code",
   "execution_count": null,
   "metadata": {},
   "outputs": [],
   "source": []
  },
  {
   "cell_type": "code",
   "execution_count": null,
   "metadata": {},
   "outputs": [],
   "source": []
  },
  {
   "cell_type": "code",
   "execution_count": null,
   "metadata": {},
   "outputs": [],
   "source": []
  },
  {
   "cell_type": "code",
   "execution_count": null,
   "metadata": {},
   "outputs": [],
   "source": []
  }
 ],
 "metadata": {
  "kernelspec": {
   "display_name": "Python 3",
   "language": "python",
   "name": "python3"
  },
  "language_info": {
   "codemirror_mode": {
    "name": "ipython",
    "version": 3
   },
   "file_extension": ".py",
   "mimetype": "text/x-python",
   "name": "python",
   "nbconvert_exporter": "python",
   "pygments_lexer": "ipython3",
   "version": "3.6.5"
  }
 },
 "nbformat": 4,
 "nbformat_minor": 2
}
